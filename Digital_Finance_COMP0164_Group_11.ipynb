{
 "cells": [
  {
   "cell_type": "markdown",
   "id": "f933b80d",
   "metadata": {},
   "source": [
    "<h1><center>Digital Finance COMP0164<br>\n",
    "Group Assignment<br>\n",
    "Group 11<br>\n",
    "    </center></h1>"
   ]
  },
  {
   "cell_type": "code",
   "execution_count": 1,
   "id": "09bae414",
   "metadata": {
    "pycharm": {
     "name": "#%%\n"
    }
   },
   "outputs": [],
   "source": [
    "#Import Statements\n",
    "import pandas as pd\n",
    "import numpy as np\n",
    "import numpy_financial as npf\n",
    "from numpy import log, exp, sqrt\n",
    "from scipy import stats\n",
    "import matplotlib.pyplot as plt\n",
    "import yfinance as yf\n",
    "import statsmodels.api as sm\n",
    "import getFamaFrenchFactors as gff\n",
    "import seaborn as sns\n",
    "import datetime\n",
    "from pypfopt import risk_models\n",
    "from pypfopt import expected_returns\n",
    "from pypfopt.efficient_frontier import EfficientFrontier\n",
    "from pypfopt import plotting "
   ]
  },
  {
   "cell_type": "markdown",
   "id": "005ac49a",
   "metadata": {},
   "source": [
    "<h1><center> Answer 1 </center></h1>"
   ]
  },
  {
   "cell_type": "markdown",
   "id": "39cd3d96",
   "metadata": {},
   "source": [
    "<h2><span style=\"color:blue\">1(a) Calculate the weighted average cost of capital of ABC prior to its new project\n",
    "investment</span>"
   ]
  },
  {
   "cell_type": "markdown",
   "id": "f43af74a",
   "metadata": {},
   "source": [
    "<h2><span style=\"color:green\">Solution</span>"
   ]
  },
  {
   "cell_type": "markdown",
   "id": "5750c583",
   "metadata": {},
   "source": [
    "WACC gives us a company's proportionaly weighted cost of capital emanating from all the sources, bonds, common stocks, preferred stocks, and other forms of debt (Hargrave, 2022).\n",
    "\n",
    "We calculate the WACC using the formula below "
   ]
  },
  {
   "cell_type": "markdown",
   "id": "0e47d93d",
   "metadata": {},
   "source": [
    "<span style=font-size:2em;>$WACC = (1-T_{c})\\times\\bigg[r_{d}\\times \\frac{D}{V}\\bigg] +\\bigg[r_{e}\\times \\frac{E}{V}\\bigg]---(1)$</span>"
   ]
  },
  {
   "cell_type": "markdown",
   "id": "2085bd6d",
   "metadata": {},
   "source": [
    "**Where,** <br>\n",
    "**$T_{c}$ = Corporotate Tax Rate**<br>\n",
    "**$r_{d}$ = Cost of Debt**<br>\n",
    "**$r_{e}$ = Cost of Equity**<br>\n",
    "**D = Market Value of Firm's Debt**<br>\n",
    "**E = Market value of Firms's Equity**<br>\n",
    "**V = Total Equity + Total Debt, i.e, E+D**<br>\n",
    "**`(Hargrave, 2022)`**"
   ]
  },
  {
   "cell_type": "markdown",
   "id": "cdd130f8",
   "metadata": {},
   "source": [
    "<h3>Step 1"
   ]
  },
  {
   "cell_type": "markdown",
   "id": "2142c8cf",
   "metadata": {},
   "source": [
    "We calculate the Cost of equity($r_{e}$) using the CAPM model **`(Kenton, 2022)`**, using the following equation<br>\n",
    "\n",
    "<span style= font-size:2em;> $r_{e}=r_{f}+\\beta_{Equity} \\times Equity Risk Premimum$---(2) </span>\n",
    "\n",
    "**Where,**<br>\n",
    "**$r_{f}$ = Risk Free Rate, given as 4.25%**<br>\n",
    "**$\\beta$ = Beta(Equity), given as 1.3**<br>\n",
    "**Equity Risk Premium given as 4.82%**"
   ]
  },
  {
   "cell_type": "code",
   "execution_count": 2,
   "id": "155b693f",
   "metadata": {
    "pycharm": {
     "name": "#%%\n"
    }
   },
   "outputs": [
    {
     "name": "stdout",
     "output_type": "stream",
     "text": [
      "The cost of equity is 10.52 percent\n"
     ]
    }
   ],
   "source": [
    "r_e=(4.25/100)+1.3*(4.82/100)\n",
    "\n",
    "print(\"The cost of equity is {} percent\".format(np.round(r_e*100,2)))"
   ]
  },
  {
   "cell_type": "markdown",
   "id": "f025d4f9",
   "metadata": {},
   "source": [
    "<h3>Step 2</h3>\n",
    "\n",
    "Using the other values supplied<br>\n",
    "**$T_{c}$ = 37.5%**<br>\n",
    "**$r_{d}$ = 9.25%**<br>\n",
    "**D = 900 million USD**<br>\n",
    "**E = 2.4 billion USD**<br>\n",
    "We calculate the WACC using equation(1) above\n",
    "\n"
   ]
  },
  {
   "cell_type": "code",
   "execution_count": 3,
   "id": "2cd699b0",
   "metadata": {
    "pycharm": {
     "name": "#%%\n"
    }
   },
   "outputs": [
    {
     "name": "stdout",
     "output_type": "stream",
     "text": [
      "The WACC is 9.22 percent\n"
     ]
    }
   ],
   "source": [
    "r_d= (9.25/100)\n",
    "D=900*(10**6)\n",
    "E=2.4*(10**9)\n",
    "WACC=((D/(D+E))*r_d*(1-(37.5/100)))+(r_e*(E/(D+E)))\n",
    "print(\"The WACC is {} percent\".format(np.round(WACC*100,2)))"
   ]
  },
  {
   "cell_type": "markdown",
   "id": "41d89712",
   "metadata": {},
   "source": [
    "\n",
    "<h2><span style=\"color:blue\">1(b) Find ABC’s asset beta prior to the new project </span>\n"
   ]
  },
  {
   "cell_type": "markdown",
   "id": "3eebe799",
   "metadata": {},
   "source": [
    "<h2><span style=\"color:green\">Solution</span>"
   ]
  },
  {
   "cell_type": "markdown",
   "id": "9e78ceae",
   "metadata": {},
   "source": [
    "To find the Asset Beta, we will have to unlever the Equity Beta, that is,  calculate the Beta without the impact of Debt which will give us volatility of returns of the company without it's financial leverage **`(Corporate Finance Institute , Unlevered beta / asset beta 2022)`**. \n",
    "\n",
    "The **Asset Beta** will then be calculated using the following formula\n",
    "\n",
    "<span style= font-size:2em;>$\\beta_{Asset}$ = $\\bigg( \\frac{ \\beta_{Equity}}{(1+(1-T_{c})\\times \\frac{D}{E}}\\bigg)$---(3)</span>\n",
    "\n",
    "**Where,**<br> \n",
    "**$T_{c}$ = Corporate Tax Rare**<br>\n",
    "**D = Debt**<br>\n",
    "**E = Equity**"
   ]
  },
  {
   "cell_type": "code",
   "execution_count": 4,
   "id": "edb909c2",
   "metadata": {
    "pycharm": {
     "name": "#%%\n"
    }
   },
   "outputs": [
    {
     "name": "stdout",
     "output_type": "stream",
     "text": [
      "The Asset Beta is 1.05\n"
     ]
    }
   ],
   "source": [
    "equity_beta=1.3\n",
    "tx=1-(37.5/100)\n",
    "C=D/E\n",
    "Asset_beta=equity_beta/(1+tx*C)\n",
    "print(\"The Asset Beta is {}\".format(np.round(Asset_beta,2)))"
   ]
  },
  {
   "cell_type": "markdown",
   "id": "10048e85",
   "metadata": {},
   "source": [
    "<h2><span style=\"color:blue\">1(c) If the new project has the same asset beta as the ABC company in b), find the\n",
    "project equity beta. </span>"
   ]
  },
  {
   "cell_type": "markdown",
   "id": "aa6938fb",
   "metadata": {},
   "source": [
    "<h2><span style=\"color:green\">Solution</span>"
   ]
  },
  {
   "cell_type": "markdown",
   "id": "f4771186",
   "metadata": {},
   "source": [
    "To calculate the Project Equity Beta, we use the \"Pure Play Method\" using only the Project's financials **`(IFT, CFA Free 101 concepts)`** and the company's Asset Beta calculated using equation (3). \n",
    "\n",
    "The Project Equity Beta is calculated using the following formula\n",
    "\n",
    "<span style= font-size:2em;>$\\beta_{Equity}$ = $\\beta_{Asset}\\space \\times \\space \\bigg(1 + \\frac{(1-T_{c})\\space \\times D}{E}\\bigg)$---(4)</span>\n",
    "\n",
    "**Where,**<br>\n",
    "**$\\beta_{Asset}$ = 1.05 (Calculated using eq (3)**<br>\n",
    "**$T_{c}$ = 37.5%**<br>\n",
    "**D = 80 million USD**<br>\n",
    "**E = 20 million USD**<br>,\n",
    "\n",
    "Therefore using equation(4)"
   ]
  },
  {
   "cell_type": "code",
   "execution_count": 5,
   "id": "d439d0c3",
   "metadata": {
    "pycharm": {
     "name": "#%%\n"
    }
   },
   "outputs": [
    {
     "name": "stdout",
     "output_type": "stream",
     "text": [
      "The Project Equity Beta is 3.69\n"
     ]
    }
   ],
   "source": [
    "beta_eq_2=Asset_beta*(1+tx*((80)/(20)))\n",
    "print(\"The Project Equity Beta is {}\".format(np.round(beta_eq_2,2)))"
   ]
  },
  {
   "cell_type": "markdown",
   "id": "e96fc6a2",
   "metadata": {},
   "source": [
    "<h2><span style=\"color:blue\">1(d) The formula for project after-tax free cash flow at a certain time t is given by <br> <br>\n",
    "FCF = (Revenues – Operating Costs – Depreciation) * (1 – Tax Rate) + Depreciation\n",
    "    \n",
    "Use python functions to automatically calculate project FCFs and prove that the aftertax free cash flow generated for the next three years are 48 million USD, 52 million USD, and\n",
    "54.4 million USD, respectively. </span>"
   ]
  },
  {
   "cell_type": "markdown",
   "id": "a5f5ce54",
   "metadata": {},
   "source": [
    "<h2><span style=\"color:green\">Solution</span>"
   ]
  },
  {
   "cell_type": "markdown",
   "id": "3c606736",
   "metadata": {},
   "source": [
    "To calculate the Free Cash Flows for Year 1, Year 2, Year 3, we first input the data from Exhibit 2 into a DataFrame, using lists for Revenues, Operating Costs, and Depreciation"
   ]
  },
  {
   "cell_type": "code",
   "execution_count": 6,
   "id": "ee45bff4",
   "metadata": {
    "pycharm": {
     "name": "#%%\n"
    }
   },
   "outputs": [
    {
     "name": "stdout",
     "output_type": "stream",
     "text": [
      "                 Year1  Year2   Year3\n",
      "Revenues          99.2  109.6  115.44\n",
      "Operating Costs   32.0   36.0   38.00\n",
      "Depreciation      16.0   16.0   16.00\n"
     ]
    }
   ],
   "source": [
    "data = pd.DataFrame([[99.2,109.6,115.44], [32, 36,38],[16,16,16]] , columns=['Year1','Year2','Year3'], index=['Revenues', 'Operating Costs','Depreciation'])\n",
    "print(data)"
   ]
  },
  {
   "cell_type": "markdown",
   "id": "5e3606ed",
   "metadata": {},
   "source": [
    "To implement the equation given in 1(d),\n",
    "\n",
    "<h2>FCF = (Revenues – Operating Costs – Depreciation) * (1 – Tax Rate) + Depreciation---(4)</h2>\n",
    "\n",
    "We implement a python function which accepts a DataFrame, Tax Rate, and Year as arguments and returns the Free Cash Flow"
   ]
  },
  {
   "cell_type": "code",
   "execution_count": 7,
   "id": "530846a9",
   "metadata": {
    "pycharm": {
     "name": "#%%\n"
    }
   },
   "outputs": [
    {
     "name": "stdout",
     "output_type": "stream",
     "text": [
      "The FCF for year one is 48.0 million\n",
      "The FCF for year two is 52.0 million\n",
      "The FCF for year three is 54.4 million\n"
     ]
    }
   ],
   "source": [
    "def FCF(dat,tax_rate,year):\n",
    "    col=0\n",
    "    if year==1:\n",
    "        col=\"Year1\"\n",
    "    elif year==2:\n",
    "        col=\"Year2\"\n",
    "    elif year==3:\n",
    "        col=\"Year3\"\n",
    "    \n",
    "    FCF= (dat[col][\"Revenues\"]-dat[col][\"Operating Costs\"]-dat[col][\"Depreciation\"])*(1-(tax_rate/100))+dat[col][\"Depreciation\"]\n",
    "    \n",
    "    return FCF\n",
    "\n",
    "year_one=FCF(data,37.5,1)\n",
    "year_two=FCF(data,37.5,2)\n",
    "year_three=FCF(data,37.5,3)\n",
    "print(\"The FCF for year one is {} million\".format(year_one))\n",
    "print(\"The FCF for year two is {} million\".format(year_two))\n",
    "print(\"The FCF for year three is {} million\".format(year_three))\n"
   ]
  },
  {
   "cell_type": "markdown",
   "id": "6c862f02",
   "metadata": {},
   "source": [
    "<h2><span style=\"color:blue\">1(e) Find the project NPV and IRR with the next three years after-tax free cash flow\n",
    "given in d) </span>"
   ]
  },
  {
   "cell_type": "markdown",
   "id": "4da9e7b8",
   "metadata": {},
   "source": [
    "<h2><span style=\"color:green\">Solution</span>"
   ]
  },
  {
   "cell_type": "markdown",
   "id": "b6834c84",
   "metadata": {},
   "source": [
    "To calculate the npv, we use numpy financial library along with using the cash flows generated in 1(d). \n",
    "\n",
    "The formula for calculating NPV is defined by \n",
    "\n",
    "<span style= font-size:2em;>$ NPV = \\sum_{t=0}^{n} \\frac{R_{t}}{(1+i)^t}-Initial\\space Investment$---(5)</span>\n",
    "\n",
    "**Where,**<br>\n",
    "**$R_{t}$ = Net Cash inflow-outflow during the period t**<br>\n",
    "**i = Required Return Rate or Discount Rate**<br>\n",
    "**t = Number of Time Periods**<br>\n",
    "\n",
    "**`(Jagerson, 2022)`**\n"
   ]
  },
  {
   "cell_type": "markdown",
   "id": "6bbb3f0e",
   "metadata": {},
   "source": [
    "<h3>Step 1: Calculate the Discount Rate for the Project "
   ]
  },
  {
   "cell_type": "markdown",
   "id": "33e7164e",
   "metadata": {},
   "source": [
    "To calculate the discount rate for the project, we are again going to refer to the CAPM model, already defined by equation (2) above in 1 (a) **`(Kenton, 2022)`** albeit with a change for we are looking here for the project specific figures. \n",
    "\n",
    "**The investment here is a 100 million USD** and on that investment we have already calculated a Project Equity $\\beta$ or $\\beta_{Equity}$ using equation (4)\n",
    "\n",
    "The change in our CAPM model would therefore be to caclulate here the cost of equity(discount rate) specific to the project **`(ACCAGLOBAL, The Capital Asset Pricing Model – Part 2)`**\n",
    "\n",
    "Therefore, using equation (2)\n",
    "\n",
    "**Where,**<br>\n",
    "**$R_{f}$=4.25%**<br>\n",
    "**Equity Risk Premium = 4.82%**"
   ]
  },
  {
   "cell_type": "code",
   "execution_count": 8,
   "id": "e312c029",
   "metadata": {
    "pycharm": {
     "name": "#%%\n"
    }
   },
   "outputs": [
    {
     "name": "stdout",
     "output_type": "stream",
     "text": [
      "The Project discount rate is 22.02 percent\n"
     ]
    }
   ],
   "source": [
    "discount_rate=(4.25/100)+ beta_eq_2*(4.82/100)\n",
    "print(\"The Project discount rate is {} percent\".format(np.round(discount_rate*100,2)))"
   ]
  },
  {
   "cell_type": "markdown",
   "id": "1f95a64a",
   "metadata": {},
   "source": [
    "<h3>Step 2: Calculate the NPV using Equation(5)</h3><br>\n",
    "Using Numpy Financial "
   ]
  },
  {
   "cell_type": "code",
   "execution_count": 9,
   "id": "f1bd7f1e",
   "metadata": {
    "pycharm": {
     "name": "#%%\n"
    }
   },
   "outputs": [
    {
     "name": "stdout",
     "output_type": "stream",
     "text": [
      "The Net Present Value is 4.21 million\n"
     ]
    }
   ],
   "source": [
    "net_present_value=npf.npv(discount_rate,[-100,year_one,year_two,year_three])\n",
    "print(\"The Net Present Value is {} million\".format(np.round(net_present_value,2)))"
   ]
  },
  {
   "cell_type": "markdown",
   "id": "298cc2de",
   "metadata": {},
   "source": [
    "<h3>Step 3: Calculating the IRR</h3><br>\n",
    "\n",
    "The internal rate of return or IRR provides an estimate of how profitable an investment will be. (Fernando, 2022)\n",
    "    \n",
    "The IRR is given by the formula, \n",
    "\n",
    "<span style= font-size:2em;>$ 0 = NPV = \\sum_{t=0}^{T} \\frac{C_{t}}{(1+IRR)^t}-C_{0}$---(6)</span>\n",
    "    \n",
    "**Where**,<br>\n",
    "**NPV = Net Present Value, taken as 0 here**<br>\n",
    "**$C_{t}$ = Net Cash inflow during the period t**<br>\n",
    "**$C_{0}$ = Total invesmtent cost, 100 million in our case**<br>\n",
    "**IRR = The Internal Rate of Return**<br>\n",
    "**t = number of time periods**<br>\n",
    "\n",
    "Essentially, the IRR can be viewed as a discount rate that \"makes the NPV of all cash flows zero in a discounted cash flow analysis\" **`(Fernando, 2022)`**\n",
    "    \n",
    "Therefore, now **calculating using the Numpy Financial Library** which implements equation(6)"
   ]
  },
  {
   "cell_type": "code",
   "execution_count": 10,
   "id": "e4d805c6",
   "metadata": {
    "pycharm": {
     "name": "#%%\n"
    }
   },
   "outputs": [
    {
     "name": "stdout",
     "output_type": "stream",
     "text": [
      "The IRR is 24.69 percent\n"
     ]
    }
   ],
   "source": [
    "IRR=npf.irr([-100,year_one,year_two,year_three])\n",
    "print(\"The IRR is {} percent\".format(np.round(IRR*100,2)))"
   ]
  },
  {
   "cell_type": "markdown",
   "id": "878d9e0b",
   "metadata": {},
   "source": [
    "<h2><span style=\"color:blue\">1(f) Use the discount dividend method and find the current value of company DEF stock\n",
    "under both economic conditions </span>"
   ]
  },
  {
   "cell_type": "markdown",
   "id": "67fc8588",
   "metadata": {},
   "source": [
    "<h2><span style=\"color:green\">Solution</span><br>\n",
    "<h3>Part 1: For Scenario One</h3>"
   ]
  },
  {
   "cell_type": "markdown",
   "id": "af85998f",
   "metadata": {},
   "source": [
    "The scenario one for DEF, is that the company will experience an initial growth spurt of 12% a year for four years due to a booming economy before stabilizing for 3.5% indefinitely. \n",
    "\n",
    "We can clearly see that this a multi-stage growth scenario,where the growth of the company is divided into two stages. \n",
    "\n",
    "For valuing the equity of the company for the two stages, we will use the multi-stage Dividend Discount Model that improves on the Gordon Growth Model **`(Chen, 2022)`** through application of different growth rates for different stages (time periods).\n",
    "\n",
    "We will use the two-stage model in particular to solve for this scenario defined by the following formula.\n",
    "\n",
    "<span style= font-size:2em;> $\\frac{D_{1}}{(r+1)^1} + \\frac{D_{2}}{(r+1)^2} + \\frac{D_{3}}{(r+1)^3} + ...+\\frac{D_{N}}{(r+1)^N} + \\frac{\\frac{D_{N}\\times(1+G_{2})}{(r-G_{2})}}{(r+1)^N}$---(7) </span>\n",
    "    \n",
    "**Where,**<br>\n",
    "**$D_{1}$ = Dividend paid after one year from now and so on for D_{2},D_{3)**<br>\n",
    "**$D_{1}$ is calculated using $D_{0}$ $\\times$(1+$G_{1}$)**\n",
    "**Therefore,**<br>\n",
    "**$D_(n) = D_{0} \\times (1+G_{1})^N$**<br>\n",
    "**$G_{1},G_{2}$ = Dividend Growth rates for time period 1 and 2 respectively**<br>\n",
    "**r = rate of return**<br>\n",
    "\n",
    "(Dividend.com, Dividend-based stock valuation: The two-stage dividend discount model)\n",
    "\n",
    "Now,<br>\n",
    "Using (7) for which the given values are<br>\n",
    "**$D_{0}$ = 0.65 USD**<br>\n",
    "**r = 7.35%**<br>\n",
    "**N = 4 years**<br>\n",
    "**$G_{1}$ = 12%** <br>\n",
    "**$G_{2}$ = 3.5%** <br>\n",
    "\n",
    "We implement a Python Function called two_stage_ddm that takes in the arguments $D_{0}$,Stage One Time, Dividend Growth Rate 1, Dividend Growth Rate 2, and rate of return"
   ]
  },
  {
   "cell_type": "code",
   "execution_count": 11,
   "id": "ca3e26dd",
   "metadata": {
    "pycharm": {
     "name": "#%%\n"
    }
   },
   "outputs": [
    {
     "name": "stdout",
     "output_type": "stream",
     "text": [
      "The Stock Price for scenario one is 23.6 USD\n"
     ]
    }
   ],
   "source": [
    "required_rate_of_return=7.35/100\n",
    "\n",
    "#Creating a two stage DDM using a python function\n",
    "\n",
    "def two_stage_ddm(dividend,stage_one_time,growth_1,growth_2,rate_of_return):\n",
    "    d_list=[]\n",
    "    stage_one=0\n",
    "    for i in range(1,stage_one_time+1):\n",
    "        d_list.append(dividend*((1+growth_1/100)**i))\n",
    "        stage_one+=d_list[-1]/((1+(rate_of_return/100))**i)\n",
    "    num=d_list[-1]*(1+growth_2/100)\n",
    "\n",
    "    denom_one=((rate_of_return-growth_2)/100)\n",
    "    denom_two=(1+rate_of_return/100)**stage_one_time\n",
    "    stage_two=num/(denom_one*denom_two)\n",
    "    fin=stage_one+stage_two\n",
    "    return fin\n",
    "\n",
    "scenario_one=two_stage_ddm(0.65,4,12,3.5,7.35)\n",
    "\n",
    "print(\"The Stock Price for scenario one is {} USD\".format(np.round(scenario_one,2)))"
   ]
  },
  {
   "cell_type": "markdown",
   "id": "969e2b6e",
   "metadata": {},
   "source": [
    "<h3>Part 2: For Scenario Two</h3>"
   ]
  },
  {
   "cell_type": "markdown",
   "id": "fb07ba85",
   "metadata": {},
   "source": [
    "For scenario two we assume that the economy falls into a recessesion and the growth will be perpetually stuck at 3.5% as the company will not experience any growth spurt like the first part. \n",
    "\n",
    "Consequently, since the growth is in perpetuity at 3.5%, we use the Gordon Growth Model version **`(Chen, 2022)`** of DDM defined by\n",
    "\n",
    "<span style= font-size:2em;>Stock Value = $\\frac{D_{0}\\times(1+G)}{r-G}$---(8)</span>\n",
    "\n",
    "**Where,**<br>\n",
    "**D_{0} = Dividend, given as 0.65 USD**<br>\n",
    "**G = Dividend Growth Rate, given as 3.5%**<br>\n",
    "**r = Rate of Return, given as 7.35%**<br>\n",
    "\n",
    "We implement a function in Python to calculate (8) which takes $D_{0}$,G,r as arguments \n",
    "    "
   ]
  },
  {
   "cell_type": "code",
   "execution_count": 12,
   "id": "4b46822a",
   "metadata": {
    "pycharm": {
     "name": "#%%\n"
    }
   },
   "outputs": [
    {
     "name": "stdout",
     "output_type": "stream",
     "text": [
      "The Stock value for scenario two is 17.47  USD\n"
     ]
    }
   ],
   "source": [
    "def perpetual_growth(dividend,growth_rate,rate_of_return):\n",
    "    numerator=dividend*(1+growth_rate/100)\n",
    "    denominator=(rate_of_return-growth_rate)/100\n",
    "    fin=numerator/denominator\n",
    "    return fin\n",
    "\n",
    "scenario_two=perpetual_growth(0.65,3.5,7.35)\n",
    "\n",
    "print(\"The Stock value for scenario two is {}  USD\".format(np.round(scenario_two,2)))"
   ]
  },
  {
   "cell_type": "markdown",
   "id": "c8493be9",
   "metadata": {},
   "source": [
    "    \n",
    "<h2><span style=\"color:blue\">1(g) Calculate GHI company’s sustainable growth rate, find the value of the company’s\n",
    "stock at the beginning of 2022 and determine the company’s present value of\n",
    "growth opportunities. </span>"
   ]
  },
  {
   "cell_type": "markdown",
   "id": "0eaef4cb",
   "metadata": {},
   "source": [
    "<h2><span style=\"color:green\">Solution</span><br>\n",
    "<h3>Step One: For Sustainable Growth Rate</h3>"
   ]
  },
  {
   "cell_type": "markdown",
   "id": "f6755fb0",
   "metadata": {},
   "source": [
    "**Sustainable Growth Rate** is the maximum growth that can be sustained by a company without \"having to finance growth* or additional equity or debt. **`(Murphy, 2022)`**\n",
    "\n",
    "To calculate the SGR, we will use the following formula \n",
    "\n",
    "<span style= font-size:2em;>$SGR = ROE \\times (1-DPR) $---(9)</span>\n",
    "\n",
    "**Where**,<br>\n",
    "**ROE = Return on Equity**<br>\n",
    "**DPR = Dividend Payout Ratio**<br>\n",
    "\n",
    "Also, \n",
    "\n",
    "<span style= font-size:2em;>$DPR = (1- Retention \\space Ratio)$---(10)</span> (Hayes, 2022)\n",
    "\n",
    "Therefore, from (9) and (10)\n",
    "\n",
    "<span style= font-size:2em;>$SGR = ROE \\times (Retention \\space Ratio)$---(11)</span>\n",
    "\n",
    "Now, calculating SGR using (11)"
   ]
  },
  {
   "cell_type": "code",
   "execution_count": 13,
   "id": "98b5b2b0",
   "metadata": {
    "pycharm": {
     "name": "#%%\n"
    }
   },
   "outputs": [
    {
     "name": "stdout",
     "output_type": "stream",
     "text": [
      "The SGR is 8.4  percent\n"
     ]
    }
   ],
   "source": [
    "sgr = 0.14 * 0.60\n",
    "print(\"The SGR is {}  percent\".format(np.round(sgr*100,2)))"
   ]
  },
  {
   "cell_type": "markdown",
   "id": "29b1f443",
   "metadata": {},
   "source": [
    "<h3> Step Two: For Stock Price</h3><br>\n",
    "\n",
    "Now, to calculate the Stock Price, we will calculate the DPR using (10)\n",
    "\n",
    "Then we will calculate the Dividend Per Share, using the following formula \n",
    "\n",
    "<span style= font-size:2em;>$DPS=DPR \\times EPS$---(11)</span>\n",
    "\n",
    "**Where,**<br>\n",
    "**EPS = Earnings Per Share, given as 2 USD**<br>\n",
    "**DPR = Dividend Payout Ratio**<br>\n",
    "\n",
    "**`(Corporate Finance Institute , 2022)`**\n"
   ]
  },
  {
   "cell_type": "code",
   "execution_count": 14,
   "id": "60912d23",
   "metadata": {
    "pycharm": {
     "name": "#%%\n"
    }
   },
   "outputs": [],
   "source": [
    "DPR = 1-0.60\n",
    "DPS = DPR *2"
   ]
  },
  {
   "cell_type": "markdown",
   "id": "1188090b",
   "metadata": {},
   "source": [
    "Calculating the Stock Price using \n",
    "\n",
    "<span style= font-size:2em;>$Stock \\space Price=\\frac{DPS}{r-SGR}$---(12)</span>\n",
    "\n",
    "**Where,**<br>\n",
    "**r=required rate of return, given as 11%**\n",
    "**`(COMP0164, Lecture 3 Slides)`**"
   ]
  },
  {
   "cell_type": "code",
   "execution_count": 15,
   "id": "fc100a6d",
   "metadata": {
    "pycharm": {
     "name": "#%%\n"
    }
   },
   "outputs": [
    {
     "name": "stdout",
     "output_type": "stream",
     "text": [
      "The Stock price is 30.77 USD\n"
     ]
    }
   ],
   "source": [
    "stock=DPS/(0.11-sgr)\n",
    "print(\"The Stock price is {} USD\".format(np.round(stock,2)))"
   ]
  },
  {
   "cell_type": "markdown",
   "id": "3032c64d",
   "metadata": {},
   "source": [
    "<h3> Step Three: For PVGO</h3><br>"
   ]
  },
  {
   "cell_type": "markdown",
   "id": "253ff427",
   "metadata": {},
   "source": [
    "<span style= font-size:2em;>$PVGO=Stock \\space Price - \\frac{EPS}{Cost\\space Of \\space Equity}$---(13)</span>\n",
    "\n",
    "**`(Corporate Finance Institute, Present value of growth opportunities (PVGO) 2022)`**\n"
   ]
  },
  {
   "cell_type": "code",
   "execution_count": 16,
   "id": "9ca80101",
   "metadata": {
    "pycharm": {
     "name": "#%%\n"
    }
   },
   "outputs": [
    {
     "name": "stdout",
     "output_type": "stream",
     "text": [
      "The PVGO is 12.59\n"
     ]
    }
   ],
   "source": [
    "PVGO=stock-(2/0.11)\n",
    "\n",
    "print(\"The PVGO is {}\".format(np.round(PVGO,2)))\n"
   ]
  },
  {
   "cell_type": "markdown",
   "id": "d98d4fec",
   "metadata": {},
   "source": [
    "<h1><center> Answer 2 </center></h1>"
   ]
  },
  {
   "cell_type": "markdown",
   "id": "9a2cfaac",
   "metadata": {},
   "source": [
    "<h2><span style=\"color:blue\">2 (a) Based on Exhibit 1, find the five-year spot rate </span>\n",
    "\n",
    "<h2><span style=\"color:green\">Solution</span>\n",
    "\n"
   ]
  },
  {
   "cell_type": "markdown",
   "id": "097cc598",
   "metadata": {},
   "source": [
    "The five-year spot rate is calculated by discounting the payments on a one-year (par) bond with an annual coupon of par rate, then solve for the one-year discount rate at year 5 ($S_5$). \n",
    "\n",
    "<span style=font-size:2em;>$PV = cPV [\\frac{1}{S_1} +\\frac{1}{(1+S_2)^2}+\\frac{1}{(1+S_3)^3}+\\frac{1}{(1+S_4)^4}] + \\frac{PV+(cPV)}{(1+S_5)^5}$--(1)</span>\n",
    "\n",
    "### $c$ is the par rate at year 5 and $PV$ is the present value and the par value. $S_1$, $S_2$, $S_3$, $S_4$ and $S_5$ are the spot rates for year 1, year 2, year 3, year 4 and year 5.\n",
    "\n",
    "\n",
    "**`(Campbell B, 2013)`**\n"
   ]
  },
  {
   "cell_type": "code",
   "execution_count": 17,
   "id": "18fc4a71",
   "metadata": {
    "pycharm": {
     "name": "#%%\n"
    }
   },
   "outputs": [
    {
     "name": "stdout",
     "output_type": "stream",
     "text": [
      "The five-year spot rate is 4.45 % \n"
     ]
    }
   ],
   "source": [
    "par_rate=np.array([2.5,2.99,3.48,3.95,4.37])\n",
    "par_rate=par_rate/100\n",
    "spot_rate=np.array([2.5,3.00,3.5,4.00])\n",
    "spot_rate=spot_rate/100\n",
    "LHS=1-(par_rate[4]/(1+par_rate[0]))-(par_rate[4]/((1+spot_rate[1])**2))-(par_rate[4]/((1+spot_rate[2])**3))-(par_rate[4]/((1+spot_rate[3])**4))\n",
    "\n",
    "spot_rate_5=((((1+par_rate[4])/LHS)**(1/5))-1)*100\n",
    "print(\"The five-year spot rate is {} % \".format(np.round(spot_rate_5,2)))"
   ]
  },
  {
   "cell_type": "markdown",
   "id": "fec8136e",
   "metadata": {},
   "source": [
    "<h2><span style=\"color:blue\">2(b)Use Exhibit 1 and the law of one price to calculate the forward rate of a one-year\n",
    "loan starting in three years </span>"
   ]
  },
  {
   "cell_type": "markdown",
   "id": "8fb0b25a",
   "metadata": {},
   "source": [
    "<h2><span style=\"color:green\">Solution</span>"
   ]
  },
  {
   "cell_type": "markdown",
   "id": "e42dd55a",
   "metadata": {},
   "source": [
    "#### Forward rate for a one-year loan starting on the nth period using the zero-coupon rate YTM \n",
    "<span style=font-size:2em;>$f_n=\\frac{(1+YTM_n)^n}{(1+YTM_{n-1})^{n-1}}-1$--(2)</span><br>\n",
    "\n",
    "**`(Bodie Z et all, 2018)`** "
   ]
  },
  {
   "cell_type": "code",
   "execution_count": 18,
   "id": "895d9bad",
   "metadata": {
    "pycharm": {
     "name": "#%%\n"
    }
   },
   "outputs": [
    {
     "name": "stdout",
     "output_type": "stream",
     "text": [
      "The forward rate of a one-year loan starting in three years 5.51 % \n"
     ]
    }
   ],
   "source": [
    "f3=(((1+spot_rate[3])**4)/((1+spot_rate[2])**(3)))-1\n",
    "print(\"The forward rate of a one-year loan starting in three years {} % \".format(np.round(f3*100,2)))"
   ]
  },
  {
   "cell_type": "markdown",
   "id": "06d17bd9",
   "metadata": {},
   "source": [
    "<h2><span style=\"color:blue\">2(c) Given spot rates for one-, two-, and three-year zero bonds, how many forward rates\n",
    "can be calculated? Please list the forward rates that can be calculated and briefly\n",
    "explain your answer. </span>"
   ]
  },
  {
   "cell_type": "markdown",
   "id": "2c2b31ce",
   "metadata": {},
   "source": [
    "<h2><span style=\"color:green\">Solution</span>\n",
    "<h3> For a zero-coupon bond, the Yeild to Maturity is equal to the spot rate. Therefore, three one-year forward rates can be calculated. The first forward rate would be from year 0 to year 1 and it will be equal to the spot rate for the one-year zero bond. The second forward rate will be from year 1 to year 2 and the third forward rate will be from year 2 to year 3. "
   ]
  },
  {
   "cell_type": "markdown",
   "id": "83f9ce3c",
   "metadata": {},
   "source": [
    "\n",
    "<h2><span style=\"color:blue\">2(d) Find the yield to maturity for Bond A. You should use the IRR formula method in\n",
    "python. </span>"
   ]
  },
  {
   "cell_type": "markdown",
   "id": "edc29320",
   "metadata": {},
   "source": [
    "<h2><span style=\"color:green\">Solution</span>"
   ]
  },
  {
   "cell_type": "markdown",
   "id": "774ef64c",
   "metadata": {},
   "source": [
    "Yield to maturity for Bond A can be calculated using **Internal Rate of Return (IRR) using (6) from question 1**"
   ]
  },
  {
   "cell_type": "code",
   "execution_count": 19,
   "id": "e1e8903c",
   "metadata": {
    "pycharm": {
     "name": "#%%\n"
    }
   },
   "outputs": [
    {
     "name": "stdout",
     "output_type": "stream",
     "text": [
      "The YTM of bond A is 6.0 %\n"
     ]
    }
   ],
   "source": [
    "#Bond A\n",
    "#Face Value=$1000\n",
    "#Coupon: 6% annual\n",
    "#Maturity after 3 years\n",
    "c=0.06\n",
    "t=3\n",
    "face_value=1000\n",
    "coup=c*face_value\n",
    "cashflow = [-face_value,coup,coup,coup+face_value]\n",
    "\n",
    "YTM_A = round(npf.irr(cashflow),3)\n",
    "print(\"The YTM of bond A is {} %\".format(np.round(YTM_A*100,2)))"
   ]
  },
  {
   "cell_type": "markdown",
   "id": "b8950fbe",
   "metadata": {},
   "source": [
    "<h2><span style=\"color:blue\">2(e) Based on Exhibit 3, assume an equal probability of interest rate going up and down\n",
    "at each node. Calculate the value of Bond B and Bond C with the binomial tree\n",
    "model. </span>"
   ]
  },
  {
   "cell_type": "markdown",
   "id": "d6ca43ea",
   "metadata": {},
   "source": [
    "<h2><span style=\"color:green\">Solution</span>"
   ]
  },
  {
   "cell_type": "markdown",
   "id": "2eb8a8b3",
   "metadata": {},
   "source": [
    "\n",
    "Using a binomial tree model, we start from the right-hand side (end of the tree) and discout the par value + coupoun value to calculate values in year 2 using the rates given in Exhibit 3 in year 2 (ruu, rud and rdd).<br><br>\n",
    "<span style=font-size:2em;>$v_{uu}=\\frac{par value.(1+intrest rate))}{(1+ruu)}$</span><br><br>\n",
    "<span style=font-size:2em;>$v_{ud}=\\frac{par value.(1+intrest rate))}{(1+rud)}$</span><br><br>\n",
    "<span style=font-size:2em;>$v_{dd}=\\frac{par value.(1+intrest rate))}{(1+rdd)}$</span><br><br>\n",
    "\n",
    "\n",
    " Since bond B is callable at par at start of year 2, values larger than par are set equal to par. On the other hand, since bond C is pullable on year 2 we set values smaller than par to be equal to par. \n",
    "The values calculated in year 2 are then discounted to get the values in year 1 using the rates in Exhibit 3 in year 1 (ru and rd). However, because we have a 50% chance of the interest rate going up or down , we multiply the values by 0.5.<br>\n",
    "\n",
    "<span style=font-size:2em;>$v_u=\\frac{0.5(v_{uu}+v_{ud})+(par value.intrest rate))}{(1+ru)}$</span><br><br>\n",
    "<span style=font-size:2em;>$v_d=\\frac{0.5(v_{ud}+v_{dd})+(par value.intrest rate))}{(1+rd)}$</span><br><br>\n",
    "\n",
    "\n",
    "Again, Since bond B is callable at par at start of year 1, values larger than par are set equal to par. On the other hand, since bond C is pullable on year 1 we set values smaller than par to be equal to par. \n",
    "\n",
    " Finally, to get the value of the bonds we discount to year 0 using the rate given Exhibit 3 in year 0 (r0)  the following equation:\n",
    "<span style=font-size:2em;>$v_u=\\frac{0.5(v_{u}+v_{d})+(par value.intrest rate))}{(1+r)}$</span><br><br>\n"
   ]
  },
  {
   "cell_type": "code",
   "execution_count": 20,
   "id": "5bcf27e6",
   "metadata": {
    "pycharm": {
     "name": "#%%\n"
    }
   },
   "outputs": [
    {
     "name": "stdout",
     "output_type": "stream",
     "text": [
      "Value of Bond B at a par value of $100 is $99.72\n",
      "Value of Bond C at a par value of $100 is $100.76\n"
     ]
    }
   ],
   "source": [
    "#r0\n",
    "r0=2.25/100\n",
    "#[ru,rd]\n",
    "r1=[3.5930/100,2.9417/100]\n",
    "#[ruu,rud,rdd]\n",
    "r2=[4.6470/100,3.8046/100,3.1150/100]\n",
    "\n",
    "par=100\n",
    "#r=0.044\n",
    "r=0.03\n",
    "y3=[]\n",
    "[y3.append(par*(1+r)) for i in range(3)]\n",
    "\n",
    "#######Bond B########\n",
    "y2=[]\n",
    "[y2.append(y3[i]/(1+r2[i])) for i in range(len(r2))]\n",
    "\n",
    "\n",
    "#Call option on bond B year2\n",
    "for i in range(len(y2)):\n",
    "    if y2[i]>par:\n",
    "        y2[i]=par\n",
    "        \n",
    "y1=[]\n",
    "[y1.append((0.5*(y2[i]+y2[i+1])+(par*r))/(1+r1[i])) for i in range(len(r1))]\n",
    "\n",
    "#Call option on bond B year1\n",
    "for i in range(len(y1)):\n",
    "    if y1[i]>par:\n",
    "        y1[i]=par\n",
    "        \n",
    "        \n",
    "y0B=((0.5*np.sum(y1))+(par*r))/(1+r0)\n",
    "\n",
    "\n",
    "\n",
    "\n",
    "#######Bond C########\n",
    "y2_c=[]\n",
    "[y2_c.append(y3[i]/(1+r2[i])) for i in range(len(r2))]\n",
    "\n",
    "\n",
    "#Put option on bond c year2\n",
    "for i in range(len(y2_c)):\n",
    "    if y2_c[i]<par:\n",
    "        y2_c[i]=par\n",
    "\n",
    "        \n",
    "y1_c=[]\n",
    "[y1_c.append((0.5*(y2_c[i]+y2_c[i+1])+(par*r))/(1+r1[i])) for i in range(len(r1))]\n",
    "\n",
    "\n",
    "#Put option on bond c year1\n",
    "for i in range(len(y1_c)):\n",
    "    if y1_c[i]<par:\n",
    "        y1_c[i]=par\n",
    "        \n",
    "        \n",
    "y0c=((0.5*np.sum(y1_c))+(par*r))/(1+r0)\n",
    "\n",
    "\n",
    "\n",
    "print(\"Value of Bond B at a par value of $100 is ${}\".format(np.round(y0B,2)))\n",
    "print(\"Value of Bond C at a par value of $100 is ${}\".format(np.round(y0c,2)))"
   ]
  },
  {
   "cell_type": "markdown",
   "id": "08e4015f",
   "metadata": {},
   "source": [
    "<h2><span style=\"color:blue\">2 (f) All else being equal, explain the effect of a fall in interest rates on Bond B and Bond\n",
    "C. [2 marks]</span>"
   ]
  },
  {
   "cell_type": "markdown",
   "id": "9dab421a",
   "metadata": {},
   "source": [
    "<h2><span style=\"color:green\">Solution</span>"
   ]
  },
  {
   "cell_type": "markdown",
   "id": "2d2015a0",
   "metadata": {},
   "source": [
    "## The lower intrest rates on Bonds B and C would make both of them decrease in value. This is due to the fact that if the intrest rates drop the numerator of the equation used to calcualtes the values of the bond at each node will decrease, decreasing the value of the whole fraction."
   ]
  },
  {
   "cell_type": "markdown",
   "id": "fe182b3b",
   "metadata": {},
   "source": [
    "<h2><span style=\"color:blue\">2 (g) All else being equal, which bond is most likely to increase in value if interest rate\n",
    "volatility is 15% rather than 10%? Briefly explain your answer. (Hint: consider the\n",
    "value of options) </span>"
   ]
  },
  {
   "cell_type": "markdown",
   "id": "f343ae8e",
   "metadata": {},
   "source": [
    "## If the volatility increases form 10% to 15% the value of the callable bond - Bond B - will decrease as the call price is at par and the bond price may be lower than par. On the other hand, a putable bond - Bond C - increase in value when then volatility increases as excersising the put will allow for selling the bond at a price higher than its market price.  "
   ]
  },
  {
   "cell_type": "markdown",
   "id": "b7ff0dad",
   "metadata": {},
   "source": [
    "<h1><center> Answer 3 </center></h1>"
   ]
  },
  {
   "cell_type": "markdown",
   "id": "0894d152",
   "metadata": {},
   "source": [
    "<h2><span style=\"color:blue\">3 (a) What is the difference between forward contracts and futures contracts</span>"
   ]
  },
  {
   "cell_type": "markdown",
   "id": "8d5954d0",
   "metadata": {},
   "source": [
    "<h2><span style=\"color:green\">Solution</span>"
   ]
  },
  {
   "cell_type": "markdown",
   "id": "f7343d98",
   "metadata": {},
   "source": [
    "Forward Contract is a sale of some asset with deferred delivery and a price agreed in advance. The contract is an obligation of both parties to transact, designed to protect both the buyer and the seller from price fluctuations in the future.\n",
    "The buyer and seller do not trade on an exchange, due to the nature of forward contracts, they have more flexible terms and conditions, which include number of units of the underlying asset and what exactly will be delivered etc. The settlement date for a forward contract is the end of the contract.\n",
    "\n",
    "Forward contracts are used mainly by hedgers to reduce the volatility of an asset’s price. The terms of the contract are set when it’s executed therefore its not sensitive to price fluctuations. The delivery of an asset or cash settlement (if specified) will always take place.\n",
    "\n",
    "However, Futures contracts are fungible, standardized contracts for delivery of a specific commodity at a specific delivery or maturity date for an agreed-upon price (the futures price), to be paid at contract maturity **`(Goodell, 2022)`**.\n",
    "\n",
    "Future Contracts are commonly used by speculators who bet on which direction an asset price is set to move in. Also, usually closed out prior to maturity.\n",
    "\n",
    "**`(Forward Contracts vs. Futures Contracts: What's the Difference?, 2022)`**"
   ]
  },
  {
   "cell_type": "markdown",
   "id": "5ea0680b",
   "metadata": {},
   "source": [
    "<h2><span style=\"color:blue\">3 (b) Consider a futures contract on the stock with a maturity of one year. Suppose that the futures price is currently at $110. Are the futures fairly priced? Describe an arbitrage strategy that would allow you to make a riskless profit.\n",
    "</h2>"
   ]
  },
  {
   "cell_type": "markdown",
   "id": "511a37b0",
   "metadata": {},
   "source": [
    "<h2><span style=\"color:green\">Solution</span>"
   ]
  },
  {
   "cell_type": "markdown",
   "id": "d4aa8f77",
   "metadata": {},
   "source": [
    "\\begin{equation}\n",
    "when\\:Ft = S_{0} \\times e^{(r-q)T}\\:there\\:is\\:no\\:arbitrage\n",
    "\\end{equation}\n",
    "\n",
    "\\begin{equation}\n",
    "ft = 110\\\\\n",
    "st = S_{0} \\times e^{(r-q)T}\n",
    "\\end{equation}"
   ]
  },
  {
   "cell_type": "code",
   "execution_count": 21,
   "id": "9eb1ee00",
   "metadata": {
    "pycharm": {
     "name": "#%%\n"
    }
   },
   "outputs": [
    {
     "data": {
      "text/plain": [
       "102.02013400267558"
      ]
     },
     "execution_count": 21,
     "metadata": {},
     "output_type": "execute_result"
    }
   ],
   "source": [
    "s0 = 100\n",
    "r = 0.02\n",
    "t = 1\n",
    "st = s0 * np.exp(r*t)\n",
    "st"
   ]
  },
  {
   "cell_type": "markdown",
   "id": "6b3bbf50",
   "metadata": {},
   "source": [
    "In one year with risk free rate at 2%.\n",
    "\n",
    "The Future Price(ft) is at 110 which is greater than 102 (the stock price in one year).\n",
    "\n",
    "Therefore the arbitrage opportunity exists."
   ]
  },
  {
   "cell_type": "markdown",
   "id": "cd7e6903",
   "metadata": {},
   "source": [
    "<h2><span style=\"color:blue\">3 (c) Same as question b) but suppose that the futures price is currently at $95. Describe your arbitrage strategy. </h2>"
   ]
  },
  {
   "cell_type": "markdown",
   "id": "379e37cf",
   "metadata": {},
   "source": [
    "<h2><span style=\"color:green\">Solution</span>"
   ]
  },
  {
   "cell_type": "markdown",
   "id": "f562b738",
   "metadata": {},
   "source": [
    "<h2><span style=\"color:blue\">3 (d) Value this call option. </h2>"
   ]
  },
  {
   "cell_type": "markdown",
   "id": "d446b054",
   "metadata": {},
   "source": [
    "<h2><span style=\"color:green\">Solution</span>"
   ]
  },
  {
   "cell_type": "markdown",
   "id": "48047e84",
   "metadata": {},
   "source": [
    "The Black-Scholes-Merton option model:\n",
    "\n",
    "\\begin{equation}\n",
    "d_1 = \\frac{ln(\\frac{S_0}{X})+(r+\\frac{1}{2}\\sigma^2)T}{\\sigma\\sqrt{T}} \\\\\n",
    "d_2 = d_1 - \\sigma\\sqrt{T} \\\\\n",
    "c = S_0N(d_1)-Xe^{-rT}N(d_2) \\\\\n",
    "\\end{equation}"
   ]
  },
  {
   "cell_type": "code",
   "execution_count": 22,
   "id": "e2d1e824",
   "metadata": {
    "pycharm": {
     "name": "#%%\n"
    }
   },
   "outputs": [
    {
     "data": {
      "text/plain": [
       "4.69"
      ]
     },
     "execution_count": 22,
     "metadata": {},
     "output_type": "execute_result"
    }
   ],
   "source": [
    "def bs_call(S, X, T, r, sigma):\n",
    "    d1 = (log(S / X)+(r + sigma * sigma /2.) * T)/(sigma * sqrt(T))\n",
    "    d2 = d1 - sigma * sqrt(T)\n",
    "    return S * stats.norm.cdf(d1) - X * exp(-r * T) * stats.norm.cdf(d2)\n",
    "\n",
    "\n",
    "c = bs_call(57.03, 55, 0.25, (0.22/100), 0.32)\n",
    "round(c, 2)"
   ]
  },
  {
   "cell_type": "markdown",
   "id": "2beb86eb",
   "metadata": {},
   "source": [
    "<h2><span style=\"color:blue\">3 (e) Based on the BSM model, describe a portfolio that replicates the call option’s payoff </h2>"
   ]
  },
  {
   "cell_type": "markdown",
   "id": "07de31c5",
   "metadata": {},
   "source": [
    "<h2><span style=\"color:green\">Solution</span>"
   ]
  },
  {
   "cell_type": "markdown",
   "id": "d25cb33b",
   "metadata": {},
   "source": [
    "Adding a stock to the portfolio that when exercised the spot price - strike price will give  a payoff which is equal to the call option in d)"
   ]
  },
  {
   "cell_type": "markdown",
   "id": "77872bd5",
   "metadata": {},
   "source": [
    "<h2><span style=\"color:blue\">3 (f) Define a function to price the option with the binomial tree method. The function\n",
    "should take the number of steps (n) as one of the inputs. You should NOT use list\n",
    "comprehension in the function.</h2>"
   ]
  },
  {
   "cell_type": "markdown",
   "id": "c0d5dbca",
   "metadata": {},
   "source": [
    "<h2><span style=\"color:green\">Solution</span>"
   ]
  },
  {
   "cell_type": "code",
   "execution_count": 23,
   "id": "78cd08dc",
   "metadata": {
    "pycharm": {
     "name": "#%%\n"
    }
   },
   "outputs": [
    {
     "data": {
      "text/plain": [
       "4.69"
      ]
     },
     "execution_count": 23,
     "metadata": {},
     "output_type": "execute_result"
    }
   ],
   "source": [
    "def binomial_tree(S, K, T, r,sigma, N, q=0):\n",
    "    deltaT = T/N\n",
    "    u = (np.exp(sigma * np.sqrt(deltaT)))\n",
    "    d = (1 / u)\n",
    "    a = np.exp((r - q) * deltaT)\n",
    "    p = (a - d) / (u - d)\n",
    "    #p = (math.exp(r * deltaT) - d)/(u - d)\n",
    "    C = dict()\n",
    "    for i in range(0, N+1, 1):\n",
    "        C[(N, i)] = max(S * (u ** (i)) * (d ** (N-i)) - K, 0)\n",
    "        #C.append(max(S * (u ** (m)) * (d ** (N-m)) - K, 0))\n",
    "    for j in range(N-1, -1, -1):\n",
    "        for i in range(0,j+1):\n",
    "            C[(j, i)] = np.exp(-r * deltaT) * (p * C[(j+1, i+1)] + (1-p) * C[(j+1, i)])\n",
    "            #C.append(math.exp(-r * dt) * (p * C[(k+1, m+1)] + (1-p) * C[(k+1, m)]))\n",
    "    C_ = C[(0,0)]\n",
    "    return round(C_,2)\n",
    "\n",
    "#asset price\n",
    "s = 57.03\n",
    "#strike price\n",
    "x = 55\n",
    "#risk-free rate\n",
    "r = (0.22/100)\n",
    "#volatility\n",
    "sigma = 0.32\n",
    "#time_to_expiration\n",
    "T = 0.25\n",
    "#number of steps\n",
    "n = 100\n",
    "h = binomial_tree(s, x, T, r, sigma, n)\n",
    "h"
   ]
  },
  {
   "cell_type": "markdown",
   "id": "db2ebc53",
   "metadata": {
    "pycharm": {
     "name": "#%% md\n"
    }
   },
   "source": [
    "**`(Thurman, 2022)`**."
   ]
  },
  {
   "cell_type": "markdown",
   "id": "b0cbe489",
   "metadata": {},
   "source": [
    "<h2><span style=\"color:blue\">3 (g) By setting n = 10, 50 and 100, compare and comment on the results under the two\n",
    "methods. </h2>"
   ]
  },
  {
   "cell_type": "markdown",
   "id": "6f32fd4f",
   "metadata": {},
   "source": [
    "<h2><span style=\"color:green\">Solution</span>"
   ]
  },
  {
   "cell_type": "markdown",
   "id": "9ba09b40",
   "metadata": {},
   "source": [
    "When n is set to 10, the final value at step 0 is 4.76\n",
    "\n",
    "When n is set to 50, the final value at step 0 is 4.7\n",
    "\n",
    "when n is set to 100, the final value at step 0 is 4.69\n",
    "\n",
    "As n increases the final value at step 0 converges to the Black-Scholes Model."
   ]
  },
  {
   "cell_type": "markdown",
   "id": "132d01b2",
   "metadata": {},
   "source": [
    "<h2><span style=\"color:blue\">3 (h) Create a graphical representation of the butterfly strategy’s payoff. </h2>"
   ]
  },
  {
   "cell_type": "markdown",
   "id": "f8cbd470",
   "metadata": {},
   "source": [
    "<h2><span style=\"color:green\">Solution</span>"
   ]
  },
  {
   "cell_type": "code",
   "execution_count": 24,
   "id": "9abb522c",
   "metadata": {
    "pycharm": {
     "name": "#%%\n"
    }
   },
   "outputs": [
    {
     "data": {
      "text/plain": [
       "<matplotlib.legend.Legend at 0x27b4ec1a3a0>"
      ]
     },
     "execution_count": 24,
     "metadata": {},
     "output_type": "execute_result"
    },
    {
     "data": {
      "image/png": "[encoded data removed]",
      "text/plain": [
       "<Figure size 432x288 with 1 Axes>"
      ]
     },
     "metadata": {
      "needs_background": "light"
     },
     "output_type": "display_data"
    }
   ],
   "source": [
    "# Initial stock price\n",
    "s0 = 100\n",
    "\n",
    "# Strike & premium\n",
    "strike_1 = 50\n",
    "premium_1 = 10\n",
    "strike_2 = 55\n",
    "premium_2 = 7\n",
    "strike_3 = 60\n",
    "premium_3 = 5\n",
    "\n",
    "def long_call(K, P, s):\n",
    "    if s < K:\n",
    "        return - P\n",
    "    else:\n",
    "        return s - K - P\n",
    "\n",
    "def short_call(K, P, s):\n",
    "    return -long_call(K,P,s)\n",
    "\n",
    "sT = np.linspace(0,80)\n",
    "\n",
    "call_option_1 = []\n",
    "\n",
    "for i in sT:\n",
    "    call_option_1.append(long_call(50, 10, i))\n",
    "\n",
    "plt.plot(sT, call_option_1, label=\"option_1\")\n",
    "\n",
    "call_option_2 = [2*short_call(55,7,s) for s in sT]\n",
    "plt.plot(sT, call_option_2, label=\"option_2\")\n",
    "\n",
    "\n",
    "call_option_3 = [long_call(60,5,s) for s in sT]\n",
    "plt.plot(sT, call_option_3, label=\"option_3\")\n",
    "\n",
    "\n",
    "def butterfly_strategy(s):\n",
    "    return long_call(50,10,s) + long_call(60,5,s) + (2*short_call(55,7,s))\n",
    "\n",
    "b = [butterfly_strategy(s) for s in sT]\n",
    "\n",
    "plt.plot(sT, b, label=\"butterfly\")\n",
    "\n",
    "\n",
    "plt.title('Butterfly Strategy')\n",
    "plt.xlabel('Stock Price')\n",
    "plt.ylabel('Profit/loss')\n",
    "plt.legend(loc=\"lower left\")"
   ]
  },
  {
   "cell_type": "markdown",
   "id": "82d0a50d",
   "metadata": {},
   "source": [
    "<h2><span style=\"color:blue\">3 (i) Why might an investor enter into such a strategy?</h2>"
   ]
  },
  {
   "cell_type": "markdown",
   "id": "aec2013a",
   "metadata": {},
   "source": [
    "<h2><span style=\"color:green\">Solution</span>"
   ]
  },
  {
   "cell_type": "markdown",
   "id": "c7a92336",
   "metadata": {},
   "source": [
    "An investor would enter into such a strategy\n",
    "because there is a limited risk exposure compared to a Short Straddle strategy specifically\n",
    "when an underlying stock moved beyond the breakeven point on expiration date.\n",
    "\n",
    "Also, there is chance to make profit from a range bound stock with relatively lower cost outlay.\n",
    "\n",
    "**`(Long Call Butterfly Option Trading Strategies, 2022)`**"
   ]
  },
  {
   "cell_type": "markdown",
   "id": "fb53e2a7",
   "metadata": {},
   "source": [
    "<h1><center> Answer 4 </center></h1>"
   ]
  },
  {
   "cell_type": "markdown",
   "id": "477a0747",
   "metadata": {},
   "source": [
    "<h2><span style=\"color:blue\">4(a) Calculate the daily returns of these stocks. You should use the adjusted daily\n",
    "closing price.</span>"
   ]
  },
  {
   "cell_type": "markdown",
   "id": "2c249b3d",
   "metadata": {},
   "source": [
    "<h2><span style=\"color:green\">Solution</span>\n"
   ]
  },
  {
   "cell_type": "markdown",
   "id": "a68cfb89",
   "metadata": {},
   "source": [
    "We first download the data for the specified duration"
   ]
  },
  {
   "cell_type": "code",
   "execution_count": 25,
   "id": "233faf90",
   "metadata": {},
   "outputs": [
    {
     "name": "stdout",
     "output_type": "stream",
     "text": [
      "[*********************100%***********************]  4 of 4 completed\n"
     ]
    }
   ],
   "source": [
    "tickers = [\"aapl\",\"goog\",\"amzn\",\"fb\"]\n",
    "stock_data = yf.download(tickers, start=\"2017-01-01\", end=\"2020-12-31\")\n",
    "aapl = yf.Ticker(\"aapl\")\n",
    "goog = yf.Ticker(\"goog\")\n",
    "amzn = yf.Ticker(\"amzn\")\n",
    "fb   = yf.Ticker(\"fb\")\n",
    "#stock_data.head()`"
   ]
  },
  {
   "cell_type": "markdown",
   "id": "37cd3851",
   "metadata": {},
   "source": [
    "We first extract the **Adjusted Close** price from the downloaded data, followed by calculatiing **percentage change** on a daily basis and then print the first five results after **removing the null values**"
   ]
  },
  {
   "cell_type": "code",
   "execution_count": 26,
   "id": "3bc259d2",
   "metadata": {
    "pycharm": {
     "name": "#%%\n"
    }
   },
   "outputs": [
    {
     "data": {
      "text/html": [
       "<div>\n",
       "<style scoped>\n",
       "    .dataframe tbody tr th:only-of-type {\n",
       "        vertical-align: middle;\n",
       "    }\n",
       "\n",
       "    .dataframe tbody tr th {\n",
       "        vertical-align: top;\n",
       "    }\n",
       "\n",
       "    .dataframe thead th {\n",
       "        text-align: right;\n",
       "    }\n",
       "</style>\n",
       "<table border=\"1\" class=\"dataframe\">\n",
       "  <thead>\n",
       "    <tr style=\"text-align: right;\">\n",
       "      <th></th>\n",
       "      <th>AAPL</th>\n",
       "      <th>AMZN</th>\n",
       "      <th>FB</th>\n",
       "      <th>GOOG</th>\n",
       "    </tr>\n",
       "    <tr>\n",
       "      <th>Date</th>\n",
       "      <th></th>\n",
       "      <th></th>\n",
       "      <th></th>\n",
       "      <th></th>\n",
       "    </tr>\n",
       "  </thead>\n",
       "  <tbody>\n",
       "    <tr>\n",
       "      <th>2017-01-04</th>\n",
       "      <td>-0.001119</td>\n",
       "      <td>0.004657</td>\n",
       "      <td>0.015660</td>\n",
       "      <td>0.000967</td>\n",
       "    </tr>\n",
       "    <tr>\n",
       "      <th>2017-01-05</th>\n",
       "      <td>0.005085</td>\n",
       "      <td>0.030732</td>\n",
       "      <td>0.016682</td>\n",
       "      <td>0.009048</td>\n",
       "    </tr>\n",
       "    <tr>\n",
       "      <th>2017-01-06</th>\n",
       "      <td>0.011148</td>\n",
       "      <td>0.019912</td>\n",
       "      <td>0.022707</td>\n",
       "      <td>0.015277</td>\n",
       "    </tr>\n",
       "    <tr>\n",
       "      <th>2017-01-09</th>\n",
       "      <td>0.009160</td>\n",
       "      <td>0.001168</td>\n",
       "      <td>0.012074</td>\n",
       "      <td>0.000620</td>\n",
       "    </tr>\n",
       "    <tr>\n",
       "      <th>2017-01-10</th>\n",
       "      <td>0.001009</td>\n",
       "      <td>-0.001280</td>\n",
       "      <td>-0.004404</td>\n",
       "      <td>-0.002306</td>\n",
       "    </tr>\n",
       "  </tbody>\n",
       "</table>\n",
       "</div>"
      ],
      "text/plain": [
       "                AAPL      AMZN        FB      GOOG\n",
       "Date                                              \n",
       "2017-01-04 -0.001119  0.004657  0.015660  0.000967\n",
       "2017-01-05  0.005085  0.030732  0.016682  0.009048\n",
       "2017-01-06  0.011148  0.019912  0.022707  0.015277\n",
       "2017-01-09  0.009160  0.001168  0.012074  0.000620\n",
       "2017-01-10  0.001009 -0.001280 -0.004404 -0.002306"
      ]
     },
     "execution_count": 26,
     "metadata": {},
     "output_type": "execute_result"
    }
   ],
   "source": [
    "stock_prices = stock_data['Adj Close']\n",
    "daily_returns = stock_prices.pct_change()\n",
    "daily_returns.dropna().head(5)"
   ]
  },
  {
   "cell_type": "markdown",
   "id": "4337e8fd",
   "metadata": {},
   "source": [
    "\n",
    "<h2><span style=\"color:blue\">4(b) Based on a), find the covariance matrix of these stocks.</span>"
   ]
  },
  {
   "cell_type": "markdown",
   "id": "dba87ec4",
   "metadata": {},
   "source": [
    "<h2><span style=\"color:green\">Solution</span>"
   ]
  },
  {
   "cell_type": "markdown",
   "id": "5865523e",
   "metadata": {},
   "source": [
    "We calculate the covarince matrix from daily returns after removing the null values <br>\n",
    "\n",
    "The **variance** of a variable can derived using the formula below\n",
    "\n",
    "<span style= font-size:2em;>$\\sigma^2(r)$ = $\\sum_{i=0}^{n}p(i)\\times(r(i)-E(r))^2$---(1)</span>\n",
    "\n",
    "The **covariance** between two variables can then be described as\n",
    "\n",
    "<span style= font-size:2em;>$Cov(r_{1},r_{2})$ = $E[r_{1}r_{2}]-E[r_{1}]E[r_{2}]$---(2)</span>\n",
    "\n",
    "**`(Goodell, 2022)`**"
   ]
  },
  {
   "cell_type": "code",
   "execution_count": 27,
   "id": "2034bde8",
   "metadata": {
    "pycharm": {
     "name": "#%%\n"
    }
   },
   "outputs": [
    {
     "name": "stdout",
     "output_type": "stream",
     "text": [
      "          AAPL      AMZN        FB      GOOG\n",
      "AAPL  0.000398  0.000246  0.000263  0.000237\n",
      "AMZN  0.000246  0.000372  0.000261  0.000230\n",
      "FB    0.000263  0.000261  0.000460  0.000263\n",
      "GOOG  0.000237  0.000230  0.000263  0.000306\n"
     ]
    }
   ],
   "source": [
    "covariance_matrix=daily_returns.dropna().cov()\n",
    "print(covariance_matrix)"
   ]
  },
  {
   "cell_type": "markdown",
   "id": "a2ee2db4",
   "metadata": {},
   "source": [
    "Now, we will also print the correlation matrix to be used later in the last part of the question\n",
    "\n",
    "The **correlation** $\\rho$ between two variables can be given as\n",
    "\n",
    "<span style= font-size:2em;>$\\rho(r_{1},r_{2})$ = $\\frac{Cov(r_{1},r_{2}}{\\sigma_{1}\\sigma_{2}}$---(3)</span>\n",
    "\n",
    "**`(Goodell, 2022)`**"
   ]
  },
  {
   "cell_type": "code",
   "execution_count": 28,
   "id": "d205a08d",
   "metadata": {
    "pycharm": {
     "name": "#%%\n"
    }
   },
   "outputs": [
    {
     "data": {
      "text/html": [
       "<div>\n",
       "<style scoped>\n",
       "    .dataframe tbody tr th:only-of-type {\n",
       "        vertical-align: middle;\n",
       "    }\n",
       "\n",
       "    .dataframe tbody tr th {\n",
       "        vertical-align: top;\n",
       "    }\n",
       "\n",
       "    .dataframe thead th {\n",
       "        text-align: right;\n",
       "    }\n",
       "</style>\n",
       "<table border=\"1\" class=\"dataframe\">\n",
       "  <thead>\n",
       "    <tr style=\"text-align: right;\">\n",
       "      <th></th>\n",
       "      <th>AAPL</th>\n",
       "      <th>AMZN</th>\n",
       "      <th>FB</th>\n",
       "      <th>GOOG</th>\n",
       "    </tr>\n",
       "  </thead>\n",
       "  <tbody>\n",
       "    <tr>\n",
       "      <th>AAPL</th>\n",
       "      <td>1.000000</td>\n",
       "      <td>0.640099</td>\n",
       "      <td>0.615644</td>\n",
       "      <td>0.679506</td>\n",
       "    </tr>\n",
       "    <tr>\n",
       "      <th>AMZN</th>\n",
       "      <td>0.640099</td>\n",
       "      <td>1.000000</td>\n",
       "      <td>0.631663</td>\n",
       "      <td>0.682847</td>\n",
       "    </tr>\n",
       "    <tr>\n",
       "      <th>FB</th>\n",
       "      <td>0.615644</td>\n",
       "      <td>0.631663</td>\n",
       "      <td>1.000000</td>\n",
       "      <td>0.701704</td>\n",
       "    </tr>\n",
       "    <tr>\n",
       "      <th>GOOG</th>\n",
       "      <td>0.679506</td>\n",
       "      <td>0.682847</td>\n",
       "      <td>0.701704</td>\n",
       "      <td>1.000000</td>\n",
       "    </tr>\n",
       "  </tbody>\n",
       "</table>\n",
       "</div>"
      ],
      "text/plain": [
       "          AAPL      AMZN        FB      GOOG\n",
       "AAPL  1.000000  0.640099  0.615644  0.679506\n",
       "AMZN  0.640099  1.000000  0.631663  0.682847\n",
       "FB    0.615644  0.631663  1.000000  0.701704\n",
       "GOOG  0.679506  0.682847  0.701704  1.000000"
      ]
     },
     "execution_count": 28,
     "metadata": {},
     "output_type": "execute_result"
    }
   ],
   "source": [
    "daily_returns.corr()"
   ]
  },
  {
   "cell_type": "markdown",
   "id": "53ea9541",
   "metadata": {},
   "source": [
    "<h2><span style=\"color:blue\">4(c) Suppose that the four stocks are equally weighted, find the annualised portfolio\n",
    "expected returns and portfolio variance</span>"
   ]
  },
  {
   "cell_type": "markdown",
   "id": "d0f517d0",
   "metadata": {},
   "source": [
    "<h2><span style=\"color:green\">Solution</span>"
   ]
  },
  {
   "cell_type": "markdown",
   "id": "d2c5c8f5",
   "metadata": {},
   "source": [
    "To calculate the annualzed expected returns we will use the **`PyPortfolioOptimization`** Library\n",
    "\n",
    "We will now calculate expected returns of the portfolio using the pypfopt library and using mean historical returns\n",
    "\n",
    "The annualzed portfolio returns are given by\n",
    "\n",
    "<span style= font-size:2em;>$Annualized\\ Return = (1 + Return)^{\\frac{252}{N}} - 1$---(4)</span>\n",
    "\n",
    "**`(Li, 2022)`**\n"
   ]
  },
  {
   "cell_type": "code",
   "execution_count": 29,
   "id": "ea53a9c1",
   "metadata": {
    "pycharm": {
     "name": "#%%\n"
    }
   },
   "outputs": [
    {
     "name": "stdout",
     "output_type": "stream",
     "text": [
      "The annualized expectednp return on the portfolio is 34.74 %\n"
     ]
    }
   ],
   "source": [
    "#Calculating mu\n",
    "mu = expected_returns.mean_historical_return(stock_prices)\n",
    "#Creating equal portfolio weights\n",
    "weights=np.repeat(1/4,4)\n",
    "\n",
    "#Transposing the mu Matrix\n",
    "mu_matrix=pd.DataFrame(mu).T\n",
    "\n",
    "\n",
    "#Calculating Annualized portfolio return\n",
    "annualized_expected_return=sum(mu_matrix.mul(weights,axis=1).iloc[0])*100\n",
    "\n",
    "\n",
    "print(\"The annualized expectednp return on the portfolio is {} %\".format(np.round(annualized_expected_return,2)))"
   ]
  },
  {
   "cell_type": "markdown",
   "id": "b2cc960d",
   "metadata": {},
   "source": [
    "Now we **calculate the variance** by first calculating the covariance matrix and then multiplying covariance with weights"
   ]
  },
  {
   "cell_type": "code",
   "execution_count": 30,
   "id": "e183b1b9",
   "metadata": {
    "pycharm": {
     "name": "#%%\n"
    }
   },
   "outputs": [
    {
     "name": "stdout",
     "output_type": "stream",
     "text": [
      "The portfolio variance is 7.149 %\n"
     ]
    }
   ],
   "source": [
    "#Annualizing the covariance matrix \n",
    "covariance = (covariance_matrix)*252\n",
    "\n",
    "#Calculating variance \n",
    "variance= np.dot(weights.T, np.dot(covariance, weights))\n",
    "\n",
    "print(\"The portfolio variance is {} %\".format(np.round(variance*100,4)))"
   ]
  },
  {
   "cell_type": "markdown",
   "id": "c328fdd2",
   "metadata": {},
   "source": [
    "<h2><span style=\"color:blue\">4(d) Find the efficient portfolio with the maximum Sharpe ratio. What is the\n",
    "corresponding Sharpe ratio?</span>"
   ]
  },
  {
   "cell_type": "markdown",
   "id": "3f94a6b4",
   "metadata": {},
   "source": [
    "<h2><span style=\"color:green\">Solution</span>"
   ]
  },
  {
   "cell_type": "markdown",
   "id": "6c68f394",
   "metadata": {},
   "source": [
    "To find the **Maximum Sharpe Ratio** we again use the **`PyPortfolioOptimization`** Library\n",
    "\n",
    "**`(Li, 2022)`**\n",
    "\n",
    "We first calculate the mu, and Sigma then proceed on to calculate efficient frontier\n",
    "\n",
    "We then calculate the Maximum Sharpe Ratio and also print the weights of the efficient portfolio.\n",
    "\n",
    "The **Sharpe Ratio** is given by\n",
    "\n",
    "<span style= font-size:2em;>$\\frac{risk \\space premium}{SD \\space of \\space excess \\space return}$ = $\\frac{E(r)-r_{f}}{\\sigma}$---(6)</span>\n",
    "\n",
    "\n",
    "**`(Goodell, 2022)`**"
   ]
  },
  {
   "cell_type": "code",
   "execution_count": 31,
   "id": "3c3b960f",
   "metadata": {
    "pycharm": {
     "name": "#%%\n"
    }
   },
   "outputs": [],
   "source": [
    "# Calculate expected returns mu\n",
    "mu = expected_returns.mean_historical_return(stock_prices)\n",
    "\n",
    "# Calculate the covariance matrix S\n",
    "Sigma = risk_models.sample_cov(stock_prices)\n",
    "\n",
    "# Obtain the efficient frontier\n",
    "ef = EfficientFrontier(mu, Sigma)\n"
   ]
  },
  {
   "cell_type": "code",
   "execution_count": 32,
   "id": "5e129f84",
   "metadata": {
    "pycharm": {
     "name": "#%%\n"
    }
   },
   "outputs": [
    {
     "name": "stdout",
     "output_type": "stream",
     "text": [
      "The weights for the efficient portfolio are\n"
     ]
    },
    {
     "data": {
      "text/plain": [
       "OrderedDict([('AAPL', 0.55613), ('AMZN', 0.44387), ('FB', 0.0), ('GOOG', 0.0)])"
      ]
     },
     "execution_count": 32,
     "metadata": {},
     "output_type": "execute_result"
    }
   ],
   "source": [
    "ef=EfficientFrontier(mu, Sigma)\n",
    "# Calculate weights for the maximum Sharpe ratio portfolio\n",
    "raw_weights_maxsharpe = ef.max_sharpe()\n",
    "cleaned_weights_maxsharpe = ef.clean_weights()\n",
    "print(\"The weights for the efficient portfolio are\")\n",
    "cleaned_weights_maxsharpe"
   ]
  },
  {
   "cell_type": "code",
   "execution_count": 33,
   "id": "8079fd67",
   "metadata": {
    "pycharm": {
     "name": "#%%\n"
    }
   },
   "outputs": [
    {
     "name": "stdout",
     "output_type": "stream",
     "text": [
      "The Maximum Sharpe Ratio and other portfolio \n",
      "Expected annual return: 46.9%\n",
      "Annual volatility: 28.3%\n",
      "Sharpe Ratio: 1.59\n"
     ]
    },
    {
     "data": {
      "text/plain": [
       "(0.4688964435526243, 0.283125194273922, 1.585505114455902)"
      ]
     },
     "execution_count": 33,
     "metadata": {},
     "output_type": "execute_result"
    }
   ],
   "source": [
    "print(\"The Maximum Sharpe Ratio and other portfolio \")\n",
    "ef.portfolio_performance(verbose=True)"
   ]
  },
  {
   "cell_type": "markdown",
   "id": "bc4cb70b",
   "metadata": {},
   "source": [
    "Therefore, the **Maximum Sharpe Ratio** is 1.59"
   ]
  },
  {
   "cell_type": "markdown",
   "id": "32965297",
   "metadata": {},
   "source": [
    "<h2><span style=\"color:blue\">4(e) Plot the efficient frontier.</span>"
   ]
  },
  {
   "cell_type": "markdown",
   "id": "e1ed5fbb",
   "metadata": {},
   "source": [
    "<h2><span style=\"color:green\">Solution</span></h2><br>\n",
    "    \n",
    "We plot the efficient frontier two ways, we calculate the Max Sharpe ration, and Minimum volatility portfolio and plot it along with the assets.\n",
    "\n",
    "Then we generate a 1000 randomly generated suboptimal portfolios and plot them along with the efficient frontier as well. \n",
    "    \n",
    "**`(PyPortfolioOpt)`**\n",
    "    "
   ]
  },
  {
   "cell_type": "code",
   "execution_count": 34,
   "id": "7a0eeea5",
   "metadata": {
    "pycharm": {
     "name": "#%%\n"
    }
   },
   "outputs": [],
   "source": [
    "sns.set(rc={'figure.figsize':(11.7,8.27)})\n",
    "sharpe_ratio=EfficientFrontier(mu, Sigma)\n",
    "# Calculate weights for the maximum Sharpe ratio portfolio\n",
    "raw_weights_maxsharpe = sharpe_ratio.max_sharpe()\n",
    "cleaned_weights_maxsharpe = sharpe_ratio.clean_weights()\n"
   ]
  },
  {
   "cell_type": "code",
   "execution_count": 35,
   "id": "76171376",
   "metadata": {
    "pycharm": {
     "name": "#%%\n"
    }
   },
   "outputs": [],
   "source": [
    "ef_min = EfficientFrontier(mu, Sigma)\n",
    "\n",
    "# Calculate weights for the maximum Sharpe ratio portfolio\n",
    "raw_weights_min = ef_min.min_volatility()\n",
    "cleaned_weights_min = ef_min.clean_weights()\n",
    "\n",
    "# Portfolio performance"
   ]
  },
  {
   "cell_type": "code",
   "execution_count": 36,
   "id": "58310cae",
   "metadata": {
    "pycharm": {
     "name": "#%%\n"
    }
   },
   "outputs": [
    {
     "data": {
      "text/plain": [
       "<matplotlib.legend.Legend at 0x27b7ba7d7c0>"
      ]
     },
     "execution_count": 36,
     "metadata": {},
     "output_type": "execute_result"
    },
    {
     "data": {
      "image/png": "[encoded data removed]",
      "text/plain": [
       "<Figure size 842.4x595.44 with 1 Axes>"
      ]
     },
     "metadata": {},
     "output_type": "display_data"
    }
   ],
   "source": [
    "ef = EfficientFrontier(mu, Sigma)\n",
    "import matplotlib.pyplot as plt\n",
    "fig, ax = plt.subplots()\n",
    "plt.title(\"Efficient Frontier With Assets\")\n",
    "plotting.plot_efficient_frontier(ef, ef_param=\"return\", ax=ax, show_assets=True)\n",
    "\n",
    "ret_tangent, std_tangent, _ = sharpe_ratio.portfolio_performance()\n",
    "ret_tangent_, std_tangent_, _ = ef_min.portfolio_performance()\n",
    "\n",
    "ax.scatter(std_tangent, ret_tangent, marker=\"*\", s=400, c=\"r\", label=\"Max Sharpe\")\n",
    "ax.scatter(std_tangent_, ret_tangent_, marker=\"*\", s=400, c=\"g\", label=\"Min Volatility\")\n",
    "ax.legend()\n"
   ]
  },
  {
   "cell_type": "code",
   "execution_count": 37,
   "id": "55cd8a21",
   "metadata": {},
   "outputs": [
    {
     "data": {
      "text/plain": [
       "<matplotlib.legend.Legend at 0x27b7ba43cd0>"
      ]
     },
     "execution_count": 37,
     "metadata": {},
     "output_type": "execute_result"
    },
    {
     "data": {
      "image/png": "[encoded data removed]",
      "text/plain": [
       "<Figure size 842.4x595.44 with 1 Axes>"
      ]
     },
     "metadata": {},
     "output_type": "display_data"
    }
   ],
   "source": [
    "ef = EfficientFrontier(mu, Sigma)\n",
    "import matplotlib.pyplot as plt\n",
    "fig, ax = plt.subplots()\n",
    "plt.title(\"Efficient Frontier With Assets and Randomly Generated Portfolio\")\n",
    "plotting.plot_efficient_frontier(ef, ef_param=\"return\", ax=ax, show_assets=True)\n",
    "\n",
    "ret_tangent, std_tangent, _ = sharpe_ratio.portfolio_performance()\n",
    "ret_tangent_, std_tangent_, _ = ef_min.portfolio_performance()\n",
    "\n",
    "# Generate random portfolios\n",
    "n_samples = 1000\n",
    "w = np.random.dirichlet(np.ones(ef.n_assets), n_samples)\n",
    "returns = w.dot(ef.expected_returns)\n",
    "standard_deviation = np.sqrt(np.diag(w @ ef.cov_matrix @ w.T))\n",
    "sharpes = returns / standard_deviation\n",
    "ax.scatter(standard_deviation, returns, marker=\".\", c=sharpes, cmap=\"viridis_r\")\n",
    "\"\"\"Code referenced from (PyPortfolioOpt) \"\"\"\n",
    "\n",
    "ax.scatter(std_tangent, ret_tangent, marker=\"*\", s=400, c=\"r\", label=\"Max Sharpe\")\n",
    "ax.scatter(std_tangent_, ret_tangent_, marker=\"*\", s=400, c=\"g\", label=\"Min Volatility\")\n",
    "ax.legend()\n",
    "\n"
   ]
  },
  {
   "cell_type": "markdown",
   "id": "25dc78e2",
   "metadata": {},
   "source": [
    "<h2><span style=\"color:blue\">4(f) Based on the concept of diversification, comment on the current portfolio. How can\n",
    "this portfolio be improved? [answers should be no longer than 200 words]</span>\n",
    "\n",
    "<h2><span style=\"color:green\">Solution</span>"
   ]
  },
  {
   "cell_type": "markdown",
   "id": "7914827f",
   "metadata": {},
   "source": [
    "The current portfolio only consists of Stocks that are largely positively correlated with no diversified risk **`(Jasch, Diversifikation 2016)`**. This can be verified from the correlation matrix printed above or the relative movement of these stocks can also be inferred from the covariance matrix, albeit it doesn’t show the relationship between them (Banton, 2022). The current portfolio has stocks that move together, which is risky because the profits of one will not balance the losses of the other in the case of a crisis. <br>"
   ]
  },
  {
   "cell_type": "markdown",
   "id": "57a61f60",
   "metadata": {},
   "source": [
    "According to Markowitz, an efficient portfolio would maximize returns while minimizing the risk, therefore the first step would be to minimize the risk by diversifying investments by including more types of investments. The current portfolio only consists of the stocks of big companies, to diversify the current portfolio, we could include stocks that have a negative correlation with current stocks. Additionally, we could include investments belonging to other risk classes **`(Jasch, Diversifikation 2016)`** , for example, fixed-term deposits, bonds, European money market funds, pension bonds, risk-free government bonds. Although our Sharpe ratio is positive and greater than 1 **`(Team Investopedia, 2022)`**, which implies it’s a good portfolio but it can be further improved through diversification."
   ]
  },
  {
   "cell_type": "markdown",
   "id": "6e26cddf",
   "metadata": {},
   "source": [
    "<h1><center> Answer 5 </center></h1>"
   ]
  },
  {
   "cell_type": "markdown",
   "id": "dde461e7",
   "metadata": {},
   "source": [
    "### The 2015-vbt-smoker-distinct-alb-anb.xlsx is included in the submission folder. It was downloaded from http://www.soa.org/files/research/exp-study/2015-vbt-smoker-distinct-alb-anb.xlsx"
   ]
  },
  {
   "cell_type": "code",
   "execution_count": 38,
   "id": "fd61d4ce",
   "metadata": {
    "pycharm": {
     "name": "#%%\n"
    }
   },
   "outputs": [
    {
     "data": {
      "text/html": [
       "<div>\n",
       "<style scoped>\n",
       "    .dataframe tbody tr th:only-of-type {\n",
       "        vertical-align: middle;\n",
       "    }\n",
       "\n",
       "    .dataframe tbody tr th {\n",
       "        vertical-align: top;\n",
       "    }\n",
       "\n",
       "    .dataframe thead th {\n",
       "        text-align: right;\n",
       "    }\n",
       "</style>\n",
       "<table border=\"1\" class=\"dataframe\">\n",
       "  <thead>\n",
       "    <tr style=\"text-align: right;\">\n",
       "      <th></th>\n",
       "      <th>Iss. Age</th>\n",
       "      <th>1</th>\n",
       "      <th>2</th>\n",
       "      <th>3</th>\n",
       "      <th>4</th>\n",
       "      <th>5</th>\n",
       "      <th>6</th>\n",
       "      <th>7</th>\n",
       "      <th>8</th>\n",
       "      <th>9</th>\n",
       "      <th>...</th>\n",
       "      <th>18</th>\n",
       "      <th>19</th>\n",
       "      <th>20</th>\n",
       "      <th>21</th>\n",
       "      <th>22</th>\n",
       "      <th>23</th>\n",
       "      <th>24</th>\n",
       "      <th>25</th>\n",
       "      <th>Ult.</th>\n",
       "      <th>Att. Age</th>\n",
       "    </tr>\n",
       "  </thead>\n",
       "  <tbody>\n",
       "    <tr>\n",
       "      <th>0</th>\n",
       "      <td>18</td>\n",
       "      <td>0.27</td>\n",
       "      <td>0.27</td>\n",
       "      <td>0.27</td>\n",
       "      <td>0.27</td>\n",
       "      <td>0.27</td>\n",
       "      <td>0.29</td>\n",
       "      <td>0.33</td>\n",
       "      <td>0.34</td>\n",
       "      <td>0.34</td>\n",
       "      <td>...</td>\n",
       "      <td>0.73</td>\n",
       "      <td>0.86</td>\n",
       "      <td>1.03</td>\n",
       "      <td>1.17</td>\n",
       "      <td>1.29</td>\n",
       "      <td>1.40</td>\n",
       "      <td>1.49</td>\n",
       "      <td>1.58</td>\n",
       "      <td>1.67</td>\n",
       "      <td>43</td>\n",
       "    </tr>\n",
       "    <tr>\n",
       "      <th>1</th>\n",
       "      <td>19</td>\n",
       "      <td>0.27</td>\n",
       "      <td>0.27</td>\n",
       "      <td>0.26</td>\n",
       "      <td>0.26</td>\n",
       "      <td>0.27</td>\n",
       "      <td>0.31</td>\n",
       "      <td>0.33</td>\n",
       "      <td>0.33</td>\n",
       "      <td>0.33</td>\n",
       "      <td>...</td>\n",
       "      <td>0.86</td>\n",
       "      <td>1.01</td>\n",
       "      <td>1.16</td>\n",
       "      <td>1.29</td>\n",
       "      <td>1.40</td>\n",
       "      <td>1.49</td>\n",
       "      <td>1.58</td>\n",
       "      <td>1.67</td>\n",
       "      <td>1.76</td>\n",
       "      <td>44</td>\n",
       "    </tr>\n",
       "    <tr>\n",
       "      <th>2</th>\n",
       "      <td>20</td>\n",
       "      <td>0.24</td>\n",
       "      <td>0.23</td>\n",
       "      <td>0.24</td>\n",
       "      <td>0.25</td>\n",
       "      <td>0.29</td>\n",
       "      <td>0.31</td>\n",
       "      <td>0.32</td>\n",
       "      <td>0.32</td>\n",
       "      <td>0.34</td>\n",
       "      <td>...</td>\n",
       "      <td>1.00</td>\n",
       "      <td>1.14</td>\n",
       "      <td>1.27</td>\n",
       "      <td>1.40</td>\n",
       "      <td>1.49</td>\n",
       "      <td>1.58</td>\n",
       "      <td>1.67</td>\n",
       "      <td>1.76</td>\n",
       "      <td>1.87</td>\n",
       "      <td>45</td>\n",
       "    </tr>\n",
       "    <tr>\n",
       "      <th>3</th>\n",
       "      <td>21</td>\n",
       "      <td>0.19</td>\n",
       "      <td>0.21</td>\n",
       "      <td>0.23</td>\n",
       "      <td>0.26</td>\n",
       "      <td>0.29</td>\n",
       "      <td>0.30</td>\n",
       "      <td>0.31</td>\n",
       "      <td>0.33</td>\n",
       "      <td>0.37</td>\n",
       "      <td>...</td>\n",
       "      <td>1.13</td>\n",
       "      <td>1.26</td>\n",
       "      <td>1.38</td>\n",
       "      <td>1.49</td>\n",
       "      <td>1.58</td>\n",
       "      <td>1.67</td>\n",
       "      <td>1.76</td>\n",
       "      <td>1.87</td>\n",
       "      <td>2.05</td>\n",
       "      <td>46</td>\n",
       "    </tr>\n",
       "    <tr>\n",
       "      <th>4</th>\n",
       "      <td>22</td>\n",
       "      <td>0.17</td>\n",
       "      <td>0.20</td>\n",
       "      <td>0.24</td>\n",
       "      <td>0.27</td>\n",
       "      <td>0.28</td>\n",
       "      <td>0.30</td>\n",
       "      <td>0.32</td>\n",
       "      <td>0.35</td>\n",
       "      <td>0.39</td>\n",
       "      <td>...</td>\n",
       "      <td>1.24</td>\n",
       "      <td>1.36</td>\n",
       "      <td>1.48</td>\n",
       "      <td>1.58</td>\n",
       "      <td>1.67</td>\n",
       "      <td>1.76</td>\n",
       "      <td>1.87</td>\n",
       "      <td>2.05</td>\n",
       "      <td>2.25</td>\n",
       "      <td>47</td>\n",
       "    </tr>\n",
       "  </tbody>\n",
       "</table>\n",
       "<p>5 rows × 28 columns</p>\n",
       "</div>"
      ],
      "text/plain": [
       "   Iss. Age     1     2     3     4     5     6     7     8     9  ...    18  \\\n",
       "0        18  0.27  0.27  0.27  0.27  0.27  0.29  0.33  0.34  0.34  ...  0.73   \n",
       "1        19  0.27  0.27  0.26  0.26  0.27  0.31  0.33  0.33  0.33  ...  0.86   \n",
       "2        20  0.24  0.23  0.24  0.25  0.29  0.31  0.32  0.32  0.34  ...  1.00   \n",
       "3        21  0.19  0.21  0.23  0.26  0.29  0.30  0.31  0.33  0.37  ...  1.13   \n",
       "4        22  0.17  0.20  0.24  0.27  0.28  0.30  0.32  0.35  0.39  ...  1.24   \n",
       "\n",
       "     19    20    21    22    23    24    25  Ult.  Att. Age  \n",
       "0  0.86  1.03  1.17  1.29  1.40  1.49  1.58  1.67        43  \n",
       "1  1.01  1.16  1.29  1.40  1.49  1.58  1.67  1.76        44  \n",
       "2  1.14  1.27  1.40  1.49  1.58  1.67  1.76  1.87        45  \n",
       "3  1.26  1.38  1.49  1.58  1.67  1.76  1.87  2.05        46  \n",
       "4  1.36  1.48  1.58  1.67  1.76  1.87  2.05  2.25        47  \n",
       "\n",
       "[5 rows x 28 columns]"
      ]
     },
     "execution_count": 38,
     "metadata": {},
     "output_type": "execute_result"
    }
   ],
   "source": [
    "#importing 2015 Valuation Basic Table (VBT) - http://www.soa.org/files/research/exp-study/2015-vbt-smoker-distinct-alb-anb.xlsx\n",
    "df=pd.read_excel(\"2015-vbt-smoker-distinct-alb-anb.xlsx\",sheet_name=3,header=2)\n",
    "df.head()"
   ]
  },
  {
   "cell_type": "markdown",
   "id": "6530e34c",
   "metadata": {},
   "source": [
    "### If today is 13 March 2022 and Alice was born on 28 October 1983 then the Age Nearest Birthday (ANB) will be 39"
   ]
  },
  {
   "cell_type": "code",
   "execution_count": 39,
   "id": "9f019202",
   "metadata": {
    "pycharm": {
     "name": "#%%\n"
    }
   },
   "outputs": [
    {
     "data": {
      "text/plain": [
       "Iss. Age    39.00\n",
       "1            0.39\n",
       "2            0.57\n",
       "3            0.77\n",
       "4            0.94\n",
       "5            1.08\n",
       "6            1.21\n",
       "7            1.34\n",
       "8            1.70\n",
       "9            1.96\n",
       "10           2.25\n",
       "11           2.52\n",
       "12           2.80\n",
       "13           3.15\n",
       "14           3.51\n",
       "15           3.90\n",
       "16           4.35\n",
       "17           4.83\n",
       "18           5.34\n",
       "19           5.93\n",
       "20           6.58\n",
       "21           7.31\n",
       "22           8.12\n",
       "23           9.01\n",
       "24          10.01\n",
       "25          11.09\n",
       "Ult.        12.28\n",
       "Att. Age    64.00\n",
       "Name: 21, dtype: float64"
      ]
     },
     "execution_count": 39,
     "metadata": {},
     "output_type": "execute_result"
    }
   ],
   "source": [
    "#one year conditional mortality\n",
    "\n",
    "cond_mor_per_1000=df.iloc[21,:]\n",
    "cond_mor_per_1000"
   ]
  },
  {
   "cell_type": "markdown",
   "id": "42623976",
   "metadata": {},
   "source": [
    "<h2><span style=\"color:blue\">5(a) Calculate Alice’s annal unconditional survival rates 𝑛𝑝𝑥 from now to age 42.</span>"
   ]
  },
  {
   "cell_type": "markdown",
   "id": "9958a246",
   "metadata": {},
   "source": [
    "<h2><span style=\"color:green\">Solution</span>"
   ]
  },
  {
   "cell_type": "markdown",
   "id": "993ebb7b",
   "metadata": {
    "pycharm": {
     "name": "#%% md\n"
    }
   },
   "source": [
    "### Unconditional survival rates\n",
    "\\begin{equation}\n",
    "{ }_{n} p_{x}= \\begin{cases}1, & n \\leq 0 \\\\ \\prod_{m=0}^{n-1}\\left(1-{ }_{m \\mid} q_{x}\\right), & n \\geq 1\\end{cases}\n",
    "\\end{equation}"
   ]
  },
  {
   "cell_type": "code",
   "execution_count": 40,
   "id": "6b1bfcd2",
   "metadata": {
    "pycharm": {
     "name": "#%%\n"
    }
   },
   "outputs": [
    {
     "name": "stdout",
     "output_type": "stream",
     "text": [
      "Alice’s annal unconditional survival rates from now to age 42 =  [1.       0.99961  0.99904  0.998271 0.997333]\n"
     ]
    }
   ],
   "source": [
    "#one year conditional mortality\n",
    "cond_mor=np.append(np.array(cond_mor_per_1000.iloc[1:-1]),np.array(df['Ult.'].iloc[22:]))/1000\n",
    "cond_mor=np.append(0,cond_mor)\n",
    "\n",
    "\n",
    "#one year conditional survival\n",
    "cond_sur=1-cond_mor\n",
    "\n",
    "\n",
    "#unconditional survival rates\n",
    "uncond_sur=[]\n",
    "uncond_sur.append([np.prod(cond_sur[0:i+1]) for i in range(0,len(cond_sur))])\n",
    "\n",
    "uncond_sur=np.round(np.array(uncond_sur).reshape(cond_sur.shape),6)\n",
    "\n",
    "np.set_printoptions(suppress=True)\n",
    "print(\"Alice’s annal unconditional survival rates from now to age 42 = \", uncond_sur[0:5] )"
   ]
  },
  {
   "cell_type": "markdown",
   "id": "c711601e",
   "metadata": {},
   "source": [
    "<h2><span style=\"color:blue\">5(b) Calculate Alice’s life expectancy in years (show one decimal place).</span>"
   ]
  },
  {
   "cell_type": "markdown",
   "id": "de8b890e",
   "metadata": {},
   "source": [
    "<h2><span style=\"color:green\">Solution</span>"
   ]
  },
  {
   "cell_type": "markdown",
   "id": "d9c6bb7d",
   "metadata": {},
   "source": [
    "$$LE= \\sum_{n>0} nPx - 0.5$$"
   ]
  },
  {
   "cell_type": "code",
   "execution_count": 41,
   "id": "3ceda897",
   "metadata": {
    "pycharm": {
     "name": "#%%\n"
    }
   },
   "outputs": [
    {
     "name": "stdout",
     "output_type": "stream",
     "text": [
      "Alice’s life expectancy is 42.0 years\n"
     ]
    }
   ],
   "source": [
    "#life expectancy\n",
    "le=np.round(np.sum(uncond_sur)-0.5,1)\n",
    "print(\"Alice’s life expectancy is \"+str(le) + \" years\")"
   ]
  },
  {
   "cell_type": "markdown",
   "id": "6b072c2e",
   "metadata": {},
   "source": [
    "<h2><span style=\"color:blue\">5(c) Calculate the probability that Alice dies exactly between 6 and 9 years from now\n",
    "(show five decimal places).</span>"
   ]
  },
  {
   "cell_type": "markdown",
   "id": "c9fdd264",
   "metadata": {},
   "source": [
    "<h2><span style=\"color:green\">Solution</span>"
   ]
  },
  {
   "cell_type": "markdown",
   "id": "d796a5aa",
   "metadata": {
    "pycharm": {
     "name": "#%% md\n"
    }
   },
   "source": [
    "### Probability that Alice dies exactly between 6 and 9 years from now\n",
    "$$P(6 \\le n \\le 9)= P(n=6)+P(n=7)+P(n=8)+P(n=9)$$\n",
    "Where $P(n=x)$ is the probability that the person dies between year $n-1$ and n"
   ]
  },
  {
   "cell_type": "code",
   "execution_count": 42,
   "id": "8fb48651",
   "metadata": {
    "pycharm": {
     "name": "#%%\n"
    }
   },
   "outputs": [
    {
     "name": "stdout",
     "output_type": "stream",
     "text": [
      "Probability that Alice dies exactly between 6 and 9 years from now is 0.00497\n"
     ]
    }
   ],
   "source": [
    "#Pn\n",
    "pn=[cond_mor[i]*uncond_sur[i-1] for i in range(1,len(cond_mor))]\n",
    "pn=np.append(0,pn)\n",
    "p=np.round(sum(pn[7:10]),5)\n",
    "print(\"Probability that Alice dies exactly between 6 and 9 years from now is \" + str(p))"
   ]
  },
  {
   "cell_type": "markdown",
   "id": "bb30d236",
   "metadata": {},
   "source": [
    "<h2><span style=\"color:blue\">5(d) Calculate the minimum annual premium rate (premium as a fraction of death\n",
    "benefit) that your company should charge for Alice’s cohort (show five decimal\n",
    "places).</span>"
   ]
  },
  {
   "cell_type": "markdown",
   "id": "7b1519a0",
   "metadata": {},
   "source": [
    "<h2><span style=\"color:green\">Solution</span>"
   ]
  },
  {
   "cell_type": "markdown",
   "id": "cf4af221",
   "metadata": {},
   "source": [
    "### Finding the minimum annual premium rate can be done by finding the value at which breakeven would occur.\n",
    "\n",
    "$$PV=\\sum_{n=0}^{\\infty} \\frac{nPx . \\pi_n - P_n .DB}{(1+r)^n} =0 $$\n",
    "\n",
    "\n",
    "Where $DB$ is the death benefit amount, $\\pi_n$ is the premium to be paid at time n, $r$ is the valuation interest rate and $nPx$ is the probability that a person aged $x$ is alive at the end of the $n^{th}$ year.\n",
    "\n",
    "\n",
    "### We solve for $\\frac{\\pi_n}{DB}$"
   ]
  },
  {
   "cell_type": "code",
   "execution_count": 43,
   "id": "4e815c56",
   "metadata": {
    "pycharm": {
     "name": "#%%\n"
    }
   },
   "outputs": [
    {
     "name": "stdout",
     "output_type": "stream",
     "text": [
      "The minimum annual premium rate that the company should charge for Alice’s cohort = 1.15344 %\n"
     ]
    }
   ],
   "source": [
    "r=0.035\n",
    "n=np.sum([pn[i]/((1+r)**(i)) for i in range(len(pn))])\n",
    "m=np.sum([uncond_sur[i]/((1+r)**(i)) for i in range(len(uncond_sur))])\n",
    "x=np.round((n/m)*100,5)\n",
    "\n",
    "print(\"The minimum annual premium rate that the company should charge for Alice’s cohort = \" +str(x) + \" %\")"
   ]
  },
  {
   "cell_type": "markdown",
   "id": "1cb09a72",
   "metadata": {},
   "source": [
    "<h2><span style=\"color:blue\">5(e)What technologies can you apply to enable a closer prediction on the company’s\n",
    "cash flow linked to this line of business of permanent life insurance? [answers should be no longer than 200 words]</span>"
   ]
  },
  {
   "cell_type": "markdown",
   "id": "f955db7c",
   "metadata": {},
   "source": [
    "<h2><span style=\"color:green\">Solution</span>"
   ]
  },
  {
   "cell_type": "markdown",
   "id": "0b72d27f",
   "metadata": {},
   "source": [
    "The conventional mortality tables and actuarial formulas that life insurance firms use to create underwriting rules or estimate life expectancies can be time consuming, expensive, and inaccurate. Supervised machine learning along with internet of things (IoT) technology can provide cheaper and more robust solutions for insurance companies **`(Boodhun & Jayabalan, 2018)`**. Internet-connected wearable devices can continuously share the insurers’ level of activity as well as vital signs (heart rate, blood pressure, blood glucose level, etc.) with the insurance company. Also, some cars are connected to the internet and equipped with telematics sensors that can monitor driving styles. The insurance company can incorporate vital signs and driving stye with machine learning techniques to accurately perform risk assessment **`(Braun & Schreiber, 1970)`**. Moreover, insurance companies can predict whether an insurance contract will fail or not by training machine learning models on features from historical failed contracts such as time between the star and expiry of a contract, premium and size of the contract. This will allow insurance companies to make better future contract decisions **`(Azzone et al., 2022)`**"
   ]
  },
  {
   "cell_type": "markdown",
   "id": "edc0c620",
   "metadata": {},
   "source": [
    "<h1><center> Answer 6 </center></h1>"
   ]
  },
  {
   "cell_type": "markdown",
   "id": "c3e11d79",
   "metadata": {},
   "source": [
    "<h2><span style=\"color:blue\">6(a) Describe what emerging technologies could be utilised and how they could be\n",
    "applied in the business infrastructure</span>"
   ]
  },
  {
   "cell_type": "markdown",
   "id": "a3a7dba8",
   "metadata": {},
   "source": [
    "<h2><span style=\"color:green\">Solution</span>"
   ]
  },
  {
   "cell_type": "markdown",
   "id": "c41e0447",
   "metadata": {},
   "source": [
    "The proposal would be to use a combination of emerging technologies in a cost-effective manner. Since the current model is a traditional brokerage/wealth-management setup, it would comprise human analysts, relationship managers, and traditional data storage that could be on hard disks, physical files, servers, and other forms. A combination of multiple emerging digital technologies can be used, starting first with a digital transformation of the current model, by building a serverless web app for the brokerage’s customers along with a mobile app-based one of the leading cloud platforms like AWS or Google Cloud.\n",
    "The web-app/mobile app will give customers a self-servicing, personalized dashboard indicating their total investments, type of investments, real-time analysis of their portfolios based on concepts like Modern Portfolio Theory **`(Jasch, Diversifikation 2016)`**, that is, volatility and estimated returns, and what kind of investments they can further make provided by a machine learning-based recommendation engine based on the customer’s current portfolio."
   ]
  },
  {
   "cell_type": "markdown",
   "id": "4150d2c5",
   "metadata": {},
   "source": [
    "The recommendation engine could be fed by results from risk models deployed in the company internally. This could be an amalgamation of human analysts working along with a data-science team, for forecasting stock prices, risks, decisions to be made while being in check with people who understand key financial concepts keeping the models from overfitting and making erroneous, underperforming predictions on data **`(Buczynski et al., 2021)`**.\n",
    "\n",
    "\n",
    "The company’s major profit would come from the fee charged by the company from transactions, and the performance of the financial assets company prompts its customers to buy, therefore it is extremely important for the company to be aware of the overfitting scenario and leverage even Deep-learning/Reinforcement learning for those scenarios **`(Prasad & Seetharaman, 2021)`**.\n",
    "Multiple APIs can be deployed to effectuate the purchasing/selling decisions in real-time and data warehousing can be again through leading solutions from the same cloud platforms, to capture customer behavior on the dashboards and how users are making purchasing/selling decisions to study their behavior for better maximizations of fees and even performance using predictive solutions in the future using machine-learning solutions. \n",
    "\n",
    "The company’s web app could charge an additional fee in a subscription-based manner, effectively looking at a SaaS-like solution to provide AI/ML-based insights, with more granular transparency and more investment opportunities for the customer **`(Fong et al., 2021)`**.\n",
    "\n",
    "Based on the amount of investment the company wants to make, the company could also use Blockchain technology for the tokenization of assets, smart contracts to execute purchasing and selling decisions while using the same business model. "
   ]
  },
  {
   "cell_type": "markdown",
   "id": "24b1fd74",
   "metadata": {},
   "source": [
    "<h2><span style=\"color:blue\">6(b) What type of new business models could you also look to if you were thinking of\n",
    "reinventing your business scope and why? </span>"
   ]
  },
  {
   "cell_type": "markdown",
   "id": "dc5461d1",
   "metadata": {},
   "source": [
    "<h2><span style=\"color:green\">Solution</span>"
   ]
  },
  {
   "cell_type": "markdown",
   "id": "a8bea29b",
   "metadata": {},
   "source": [
    "The brokerage could evaluate multiple options to change the scope of the current business model based on the risk it wants to take. The current model is a traditional brokerage based on a B2B2C model heavily reliant on time-consuming **`(McKinsey, 2022)`** but pivotal activities like relationship management. \n",
    "\n",
    "The first option could be to evaluate any of the emerging business models, such as a platform, where the insights for wealth management scenarios are sold as a software-as-a-service model. Since it is a platform, the company can match buyers and sellers, provide some basic analytics, recommendations based on more standard analytics, and recommendation systems and then sell advanced analytics on the top for a nominal fee, with the human relationship management along with advanced analytics as another subscription **`(Fong et al., 2021)`**. The why of this option could help manage existing problems with the current model while relying on the knowledge base that already exists in the company. Verily, there will be investments but they will largely digitize what exists right now whilst making use of the existing knowledge base and diverging too much from the current expertise. The platform model, would in-turn additional data, that could be used for cross-selling insurance, and other fintech products. \n",
    "\n",
    "The second option could be to evaluate a P2P model but in a B2B way since the example of Funding Circle shows a shift from consumers to institutions for a cost-effective way, where businesses could meet the funding requirements of other businesses. This approach could also combine a platform model, and leverage the related technology from APIs, cloud platforms, machine learning whilst being cognizant of the risks related to overfitting **`(Buczynski et al., 2021)`**.\n",
    "\n",
    "The third option could be to head for a complete overhaul and combine a few of the above aspects like P2P, and establish DAO, leveraging the power of Blockchain and inherent features of finality and immutability that come with it. A DAO would enforce smart contracts, enforcing the rules in an automated manner, and tokenization of the assets could introduce capital efficiency, enabling a scalable way to raise capital, while also providing aligned incentives for all the users if the portfolio or the asset performs well **`(Vadgama, 2022)`**. The tokenization of assets, smart contracts for purchase, settlement, transaction fee, automated, real-time distribution of aligned incentives would be extremely efficient from a wealth management perspective. The value, performance, and scalability of this model would be the strongest “whys” to adopt.\n"
   ]
  },
  {
   "cell_type": "markdown",
   "id": "7b156a2d",
   "metadata": {},
   "source": [
    "<br>\n",
    "<br>\n",
    "<br>\n",
    "<br>\n",
    "<br>\n",
    "<br>\n",
    "\n",
    "<br>\n",
    "<br>\n",
    "<br>\n",
    "<br>\n",
    "<br>\n",
    "<br>\n",
    "\n",
    "<h2><span style=\"color:blue\">6(c) What new emerging financial products would be most suitable to add to\n",
    "complement the existing products of the business and why? </span> </h2>\n",
    " \n",
    "\n",
    "    \n",
    "\n"
   ]
  },
  {
   "cell_type": "markdown",
   "id": "f1f2a221",
   "metadata": {},
   "source": [
    "<h2><span style=\"color:green\">Solution</span>\n"
   ]
  },
  {
   "cell_type": "markdown",
   "id": "9580a112",
   "metadata": {},
   "source": [
    "\n",
    "For the existing products, the first step the company could take would be to leverage the power of advanced analytics, especially looking at enhancing the efficiency of Relationship Managers(RMs), using various metrics to track performance, engagement with clients, satisfaction, and focusing on modernizing the entire portfolio stack to break away from the “one-model fits all” and processing data manually, to a more personalized set-up where solutions are tailored to complex client needs **`(McKinsey, 2022)`**. \n",
    "\n",
    "RMs currently spend around 60-70% of their current time on non-advisory activities which are non-revenue generating spending time on things like manually processing data, meeting regulatory and compliance requirements, and other admin activities. It’s estimated that IT-based transformations could lead to an incremental value of $40-45 billion in Asia alone **`(McKinsey, 2022)`**.\n",
    "\n",
    "But the digitization and personalization cannot be achieved from advanced analytics alone. The brokerage could use Robo-Advisory in wealth management and advisory, which will help with personalization and recommendation, adding another cog of good user experience in the stack that can be augmented by the human on a need basis. Robo-advisory 4.0 has achieved greater personalization by being fully automated and can make real-time adjustments to portfolios according to market conditions, risk appetite, profit, investment strategies, and liquidity aspects **`(Deloitte, 2016)`**. \n",
    "Although there’s caution around fully automated portfolio decisions since AI still has incomplete advancement with Finance theory **`(Vadgama, 2022)`** and models often overfit on training data and have poor real-world performance **`(Buczynski et al., 2021)`**.\n",
    "\n",
    "To save time on meeting the regulatory and compliance requirements, the brokerage could adopt Blockchain as a fintech solution, as it allows a digital wrapper around assets and enables trading on decentralized networks with properties like immutability and finality along with security and privacy **`(Arora & Ramrakhani)`**.\n",
    "Not only using blockchain will help save time, but tokenization will help remove mediators, reducing transaction time, and features such as broadcasting of messages, and accessibility of all transactions to all the members would increase transparency and trust **`(Corrales, 2020)`**.\n",
    "\n",
    "Another technology that can help with regulatory and compliance activities along with faster on-boarding, would be to employ smart contracts on the blockchain with codified rules that make decisions fully automated, such as selling beyond a threshold profit value, buying beyond a threshold value, and so on.\n",
    "\n",
    "The overall stack can be digitized using advanced analytics, Robo-advisory, and blockchain without changing the current B2B2C model, emphasizing making the client experience more personalized.\n"
   ]
  },
  {
   "cell_type": "markdown",
   "id": "2772af49",
   "metadata": {},
   "source": [
    "## References"
   ]
  },
  {
   "cell_type": "markdown",
   "id": "e7a269c1",
   "metadata": {},
   "source": [
    "Analytics transformation in wealth management [Internet]. McKinsey & Company. McKinsey & Company; 2022 [cited 2022Mar23]. Available from: https://www.mckinsey.com/industries/financial-services/our-insights/analytics-transformation-in-wealth-management <br>\n",
    "\n",
    "Azzone M, Barucci E, Giuffra Moncayo G, Marazzina D. A machine learning model for lapse prediction in life insurance contracts. Expert Systems with Applications. 2022;191:116261.<br>\n",
    "\n",
    "Banton C. Calculating covariance for stocks [Internet]. Investopedia. Investopedia; 2022 [cited 2022Mar20]. Available from: https://www.investopedia.com/articles/financial-theory/11/calculating-covariance.asp <br>\n",
    "\n",
    "Bodie Z, Kane A, Marcus AJ. Investments. New York etc.: McGraw-Hill Education; 2018. \n",
    "\n",
    "Boodhun N, Jayabalan M. Risk prediction in life insurance industry using supervised learning algorithms. Complex &amp; Intelligent Systems. 2018;4(2):145–54.<br>\n",
    "\n",
    "Braun A, Schreiber F. The current InsurTech Landscape: Business models and disruptive potential [Internet]. EconStor. St. Gallen: Verlag Institut für Versicherungswirtschaft der Universität St. Gallen; 1970 [cited 2022Mar25]. Available from: https://www.econstor.eu/handle/10419/226646<br>\n",
    "\n",
    "Buczynski W, Cuzzolin F, Sahakian B. A review of machine learning experiments in equity investment decision-making: Why most published research findings do not live up to their promise in real life. International Journal of Data Science and Analytics. 2021;11(3):221–42.<br>\n",
    "\n",
    "\n",
    "Campbell  B. Par Curve, Spot Curve, and Forward Curve [Internet]. Financial exam help 123. 2013 [cited 2022Mar20]. Available from: http://www.financialexamhelp123.com/par-curve-spot-curve-and-forward-curve/ <br>\n",
    "\n",
    "CFA Free 101 concepts [Internet]. IFT World Concept 62 Beta of a Project Comments. [cited 2022Mar21]. Available from: https://ift.world/concept1/concept-62-beta-project/ <br>\n",
    "\n",
    "Chen J. Dividend discount model – DDM [Internet]. Investopedia. Investopedia; 2022 [cited 2022Mar21]. Available from: https://www.investopedia.com/terms/d/ddm.asp <br>\n",
    "\n",
    "Chen J. Multistage dividend discount model [Internet]. Investopedia. Investopedia; 2022 [cited 2022Mar21]. Available from: https://www.investopedia.com/terms/m/multistageddm.asp#:~:text=The%20multistage%20dividend%20discount%20model%20is%20an%20equity%20valuation%20model,applied%20to%20different%20time%20periods.<br>\n",
    "\n",
    "Corporate  Finance Institute. Dividend per share (DPS) [Internet]. Corporate Finance Institute. 2022 [cited 2022Mar21]. Available from: https://corporatefinanceinstitute.com/resources/knowledge/finance/dividend-per-share/ <br>\n",
    "\n",
    "Corporate Finance Institute. Unlevered beta / asset beta [Internet]. Corporate Finance Institute. 2022 [cited 2022Mar21]. Available from: https://corporatefinanceinstitute.com/resources/knowledge/valuation/unlevered-beta-asset-beta/ <br>\n",
    "\n",
    "Cost of equity (KE): Formula and excel calculator [Internet]. Wall Street Prep. [cited 2022Mar25]. Available from: https://www.wallstreetprep.com/knowledge/cost-of-equity/ <br>\n",
    "\n",
    "Dividend-based stock valuation: The two-stage dividend discount model [Internet]. Dividend.com. [cited 2022Mar21]. Available from: https://www.dividend.com/dividend-education/the-two-stage-dividend-discount-model/ <br>\n",
    "\n",
    "Fernando J. Internal Rate of Return (IRR) [Internet]. Investopedia. Investopedia; 2022 [cited 2022Mar21]. Available from: https://www.investopedia.com/terms/i/irr.asp <br>\n",
    "\n",
    "Fong D, Han F, Liu L, Qu J, Shek A. Seven technologies shaping the future of Fintech: Greater China [Internet]. McKinsey & Company. McKinsey & Company; 2021 [cited 2022Apr24]. Available from: https://www.mckinsey.com/cn/our-insights/our-insights/seven-technologies-shaping-the-future-of-fintech <br>\n",
    "\n",
    "Forward Contracts vs. Futures Contracts: What's the Difference? [Internet]. Investopedia. 2022 [cited 21 March 2022]. Available from: https://www.investopedia.com/ask/answers/06/forwardsandfutures.asp\n",
    "\n",
    "Goodell G. Corporate Finance 2 COMP0164 Lecture 3 (Week 27). Lecture presented at; University College London; 2022 25 January.<br> \n",
    "\n",
    "Goodell G. Derivatives & Forwards and Futures COMP0164 Lecture 5 (Week 5). Lecture presented at; University College London; 2022 8 February.<br>\n",
    "\n",
    "Goodell G. Portfolio Theory and Management COMP0164 Lecture 7 (Week 22). Lecture presented at; University College London; 2022 Mar 1.  <br>\n",
    "\n",
    "\n",
    "Hargrave M. How to calculate the weighted average cost of capital (WACC) [Internet]. Investopedia. Investopedia; 2022 [cited 2022Mar17]. Available from: https://www.investopedia.com/terms/w/wacc.asp <br>\n",
    "\n",
    "Hayes A. What is a dividend payout ratio? [Internet]. Investopedia. Investopedia; 2022 [cited 2022Mar21]. Available from: https://www.investopedia.com/terms/d/dividendpayoutratio.asp#:~:text=The%20dividend%20payout%20ratio%20is,paid%20to%20shareholders%20via%20dividends <br>\n",
    "\n",
    "https://www.accaglobal.com ACCA-. The Capital Asset Pricing Model – Part 2 [Internet]. ACCA Global. [cited 2022Mar21]. Available from: https://www.accaglobal.com/uk/en/student/exam-support-resources/fundamentals-exams-study-resources/f9/technical-articles/capm-part2.htm.html <br>\n",
    "\n",
    "Jagerson J. What is the formula for Calculating Net Present Value (NPV)? [Internet]. Investopedia. Investopedia; 2022 [cited 2022Mar21]. Available from: https://www.investopedia.com/ask/answers/032615/what-formula-calculating-net-present-value-npv.asp <br>\n",
    "\n",
    "Jasch Ax. Diversifikation [Internet]. Companisto. [cited 2022Mar18]. Available from: \n",
    "https://www.companisto.com/en/academy/anlageformen-und-strategien/diversifikation-und-moderne-portfolio-theorie <br>\n",
    "\n",
    "Kenton W. Capital Asset Pricing Model (CAPM) [Internet]. Investopedia. Investopedia; 2022 [cited 2022Mar22]. Available from: https://www.investopedia.com/terms/c/capm.asp <br>\n",
    "\n",
    "Li M. Portfolio applications Lab 7. Lecture presented at; University College London; 2022 Mar 5.  \n",
    "Murphy CB. Understanding the sustainable growth rate (SGR) [Internet]. Investopedia. Investopedia; 2022 [cited 2022Mar21]. Available from: https://www.investopedia.com/terms/s/sustainablegrowthrate.asp#:~:text=The%20sustainable%20growth%20rate%20(SGR)%20is%20the%20maximum%20rate%20of,growth%20without%20increasing%20financial%20leverage. <br>\n",
    "\n",
    "Long Call Butterfly Option Trading Strategies [Internet]. Trade-stock-option.com. 2022 [cited 21 March 2022]. Available from: http://www.trade-stock-option.com/long-call-butterfly.html\n",
    "\n",
    "Plotting¶ [Internet]. Plotting - PyPortfolioOpt 1.5.2 documentation. PyPortfolioOpt; [cited 2022Mar22]. Available from: https://pyportfolioopt.readthedocs.io/en/latest/Plotting.html <br>\n",
    "\n",
    "Prasad A, Seetharaman A. Importance of machine learning in making investment decision in stock market. Vikalpa: The Journal for Decision Makers. 2021;46(4):209–22.<br>\n",
    "\n",
    "Present value of growth opportunities (PVGO) [Internet]. Corporate Finance Institute. 2022 [cited 2022Mar21]. Available from: https://corporatefinanceinstitute.com/resources/knowledge/valuation/present-value-growth-opportunities-pvgo/ <br>\n",
    "\n",
    "Team TI. Modern portfolio theory (MPT) [Internet]. Investopedia. Investopedia; 2022 [cited 2022Mar21]. Available from: https://www.investopedia.com/terms/m/modernportfoliotheory.asp <br>\n",
    "\n",
    "Thurman J. Implementing the Binomial Option Pricing Model [Internet]. Joseph Thurman. 2022 [cited 18 March 2022]. Available from: http://www.josephthurman.com/binomial3.html\n",
    "\n",
    "Unlevered beta / asset beta [Internet]. Corporate Finance Institute. 2022 [cited 2022Mar21]. Available from: https://corporatefinanceinstitute.com/resources/knowledge/valuation/unlevered-beta-asset-beta/ <br>\n",
    "\n",
    "Vadgama N. Lecture 9 & 10: Emerging Technologies & Business Models in Finance. Lecture presented at; University College London; 2022 Mar 22.<br>\n",
    "\n",
    "WallStreetPrep. Cost of equity (KE): Formula and excel calculator [Internet]. Wall Street Prep. [cited 2022Mar25]. Available from: https://www.wallstreetprep.com/knowledge/cost-of-equity/ <br>\n"
   ]
  },
  {
   "cell_type": "code",
   "execution_count": null,
   "id": "3726b72b",
   "metadata": {},
   "outputs": [],
   "source": []
  }
 ],
 "metadata": {
  "kernelspec": {
   "display_name": "Python 3 (ipykernel)",
   "language": "python",
   "name": "python3"
  },
  "language_info": {
   "codemirror_mode": {
    "name": "ipython",
    "version": 3
   },
   "file_extension": ".py",
   "mimetype": "text/x-python",
   "name": "python",
   "nbconvert_exporter": "python",
   "pygments_lexer": "ipython3",
   "version": "3.9.7"
  }
 },
 "nbformat": 4,
 "nbformat_minor": 5
}
